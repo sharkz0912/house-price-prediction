{
 "cells": [
  {
   "cell_type": "markdown",
   "metadata": {},
   "source": [
    "# Import Libraries and Load New Dataset"
   ]
  },
  {
   "cell_type": "code",
   "execution_count": 1,
   "metadata": {
    "execution": {
     "iopub.execute_input": "2025-07-04T23:19:48.386233Z",
     "iopub.status.busy": "2025-07-04T23:19:48.378206Z",
     "iopub.status.idle": "2025-07-04T23:19:51.596801Z",
     "shell.execute_reply": "2025-07-04T23:19:51.596801Z"
    }
   },
   "outputs": [
    {
     "name": "stdout",
     "output_type": "stream",
     "text": [
      "Shape of train: (1460, 203)\n",
      "['Id', 'MSSubClass', 'LotFrontage', 'LotArea', 'Alley', 'LotShape', 'Utilities', 'LandSlope', 'OverallQual', 'OverallCond', 'YearBuilt', 'YearRemodAdd', 'MasVnrType', 'MasVnrArea', 'ExterQual', 'ExterCond', 'BsmtQual', 'BsmtCond', 'BsmtExposure', 'BsmtFinType1', 'BsmtFinSF1', 'BsmtFinType2', 'BsmtFinSF2', 'BsmtUnfSF', 'TotalBsmtSF', 'HeatingQC', 'CentralAir', 'Electrical', '1stFlrSF', '2ndFlrSF', 'LowQualFinSF', 'GrLivArea', 'BsmtFullBath', 'BsmtHalfBath', 'FullBath', 'HalfBath', 'BedroomAbvGr', 'KitchenAbvGr', 'KitchenQual', 'TotRmsAbvGrd', 'Functional', 'Fireplaces', 'FireplaceQu', 'GarageType', 'GarageYrBlt', 'GarageFinish', 'GarageCars', 'GarageArea', 'GarageQual', 'GarageCond', 'PavedDrive', 'WoodDeckSF', 'OpenPorchSF', 'EnclosedPorch', '3SsnPorch', 'ScreenPorch', 'PoolArea', 'PoolQC', 'Fence', 'MiscFeature', 'MiscVal', 'MoSold', 'YrSold', 'SalePrice', 'MSZoning_FV', 'MSZoning_RH', 'MSZoning_RL', 'MSZoning_RM', 'Street_Pave', 'LandContour_HLS', 'LandContour_Low', 'LandContour_Lvl', 'LotConfig_CulDSac', 'LotConfig_FR2', 'LotConfig_FR3', 'LotConfig_Inside', 'Neighborhood_Blueste', 'Neighborhood_BrDale', 'Neighborhood_BrkSide', 'Neighborhood_ClearCr', 'Neighborhood_CollgCr', 'Neighborhood_Crawfor', 'Neighborhood_Edwards', 'Neighborhood_Gilbert', 'Neighborhood_IDOTRR', 'Neighborhood_MeadowV', 'Neighborhood_Mitchel', 'Neighborhood_NAmes', 'Neighborhood_NPkVill', 'Neighborhood_NWAmes', 'Neighborhood_NoRidge', 'Neighborhood_NridgHt', 'Neighborhood_OldTown', 'Neighborhood_SWISU', 'Neighborhood_Sawyer', 'Neighborhood_SawyerW', 'Neighborhood_Somerst', 'Neighborhood_StoneBr', 'Neighborhood_Timber', 'Neighborhood_Veenker', 'Condition1_Feedr', 'Condition1_Norm', 'Condition1_PosA', 'Condition1_PosN', 'Condition1_RRAe', 'Condition1_RRAn', 'Condition1_RRNe', 'Condition1_RRNn', 'Condition2_Feedr', 'Condition2_Norm', 'Condition2_PosA', 'Condition2_PosN', 'Condition2_RRAe', 'Condition2_RRAn', 'Condition2_RRNn', 'BldgType_2fmCon', 'BldgType_Duplex', 'BldgType_Twnhs', 'BldgType_TwnhsE', 'HouseStyle_1.5Unf', 'HouseStyle_1Story', 'HouseStyle_2.5Fin', 'HouseStyle_2.5Unf', 'HouseStyle_2Story', 'HouseStyle_SFoyer', 'HouseStyle_SLvl', 'RoofStyle_Gable', 'RoofStyle_Gambrel', 'RoofStyle_Hip', 'RoofStyle_Mansard', 'RoofStyle_Shed', 'RoofMatl_CompShg', 'RoofMatl_Membran', 'RoofMatl_Metal', 'RoofMatl_Roll', 'RoofMatl_Tar&Grv', 'RoofMatl_WdShake', 'RoofMatl_WdShngl', 'Exterior1st_AsphShn', 'Exterior1st_BrkComm', 'Exterior1st_BrkFace', 'Exterior1st_CBlock', 'Exterior1st_CemntBd', 'Exterior1st_HdBoard', 'Exterior1st_ImStucc', 'Exterior1st_MetalSd', 'Exterior1st_Plywood', 'Exterior1st_Stone', 'Exterior1st_Stucco', 'Exterior1st_VinylSd', 'Exterior1st_Wd Sdng', 'Exterior1st_WdShing', 'Exterior2nd_AsphShn', 'Exterior2nd_Brk Cmn', 'Exterior2nd_BrkFace', 'Exterior2nd_CBlock', 'Exterior2nd_CmentBd', 'Exterior2nd_HdBoard', 'Exterior2nd_ImStucc', 'Exterior2nd_MetalSd', 'Exterior2nd_Other', 'Exterior2nd_Plywood', 'Exterior2nd_Stone', 'Exterior2nd_Stucco', 'Exterior2nd_VinylSd', 'Exterior2nd_Wd Sdng', 'Exterior2nd_Wd Shng', 'Foundation_CBlock', 'Foundation_PConc', 'Foundation_Slab', 'Foundation_Stone', 'Foundation_Wood', 'Heating_GasA', 'Heating_GasW', 'Heating_Grav', 'Heating_OthW', 'Heating_Wall', 'SaleType_CWD', 'SaleType_Con', 'SaleType_ConLD', 'SaleType_ConLI', 'SaleType_ConLw', 'SaleType_New', 'SaleType_Oth', 'SaleType_WD', 'SaleCondition_AdjLand', 'SaleCondition_Alloca', 'SaleCondition_Family', 'SaleCondition_Normal', 'SaleCondition_Partial', 'lot_frontage_lot_area', 'TotalSF', 'TotalBath', 'HouseAge', 'RemodAge', 'IsRemodeled', 'GarageAge', 'Qual_LivArea_Interaction', 'has_MasVnrArea', 'has_Bsmt', 'has_2ndFlr', 'has_Garage', 'has_Pool']\n"
     ]
    }
   ],
   "source": [
    "import shap\n",
    "import numpy as np\n",
    "import pandas as pd\n",
    "import seaborn as sns\n",
    "import matplotlib.pyplot as plt\n",
    "from xgboost import XGBRegressor\n",
    "from sklearn.feature_selection import RFE\n",
    "from sklearn.metrics import root_mean_squared_error\n",
    "from sklearn.model_selection import train_test_split\n",
    "\n",
    "\n",
    "# Load data\n",
    "train = pd.read_csv('../data/new_train.csv')\n",
    "print(\"Shape of train:\", train.shape)\n",
    "train.head()\n",
    "print(list(train.columns))"
   ]
  },
  {
   "cell_type": "markdown",
   "metadata": {},
   "source": [
    "# Select Features"
   ]
  },
  {
   "cell_type": "code",
   "execution_count": 2,
   "metadata": {
    "execution": {
     "iopub.execute_input": "2025-07-04T23:19:51.596801Z",
     "iopub.status.busy": "2025-07-04T23:19:51.596801Z",
     "iopub.status.idle": "2025-07-04T23:20:20.377940Z",
     "shell.execute_reply": "2025-07-04T23:20:20.377940Z"
    }
   },
   "outputs": [
    {
     "name": "stdout",
     "output_type": "stream",
     "text": [
      "\n",
      "--- Feature Debugging Before SHAP ---\n",
      "Train Features (X_train): ['Qual_LivArea_Interaction', 'OverallQual', 'BsmtQual', 'GarageCars', 'TotalSF', 'HouseAge', 'TotalBsmtSF', 'GarageFinish', 'MSZoning_RM', 'KitchenQual', 'BsmtFinSF1', 'YearBuilt', 'Fireplaces', 'MSZoning_RL', '2ndFlrSF', '1stFlrSF', 'lot_frontage_lot_area', 'TotalBath', 'BsmtFinType1', 'CentralAir', 'GarageQual', 'ExterQual', 'RemodAge', 'YearRemodAdd', 'SaleType_New', 'LotArea', 'GrLivArea', 'FireplaceQu', 'BsmtExposure', 'GarageCond']\n",
      "Dev Features (X_dev): ['Qual_LivArea_Interaction', 'OverallQual', 'BsmtQual', 'GarageCars', 'TotalSF', 'HouseAge', 'TotalBsmtSF', 'GarageFinish', 'MSZoning_RM', 'KitchenQual', 'BsmtFinSF1', 'YearBuilt', 'Fireplaces', 'MSZoning_RL', '2ndFlrSF', '1stFlrSF', 'lot_frontage_lot_area', 'TotalBath', 'BsmtFinType1', 'CentralAir', 'GarageQual', 'ExterQual', 'RemodAge', 'YearRemodAdd', 'SaleType_New', 'LotArea', 'GrLivArea', 'FireplaceQu', 'BsmtExposure', 'GarageCond']\n",
      "RFE Selected Features: ['Qual_LivArea_Interaction', 'OverallQual', 'BsmtQual', 'GarageCars', 'TotalSF', 'HouseAge', 'TotalBsmtSF', 'GarageFinish', 'MSZoning_RM', 'KitchenQual', 'BsmtFinSF1', 'YearBuilt', 'Fireplaces', 'MSZoning_RL', '2ndFlrSF', '1stFlrSF', 'lot_frontage_lot_area', 'TotalBath', 'BsmtFinType1', 'CentralAir', 'GarageQual', 'ExterQual', 'RemodAge', 'YearRemodAdd', 'SaleType_New', 'LotArea', 'GrLivArea', 'FireplaceQu', 'BsmtExposure', 'GarageCond']\n"
     ]
    },
    {
     "name": "stderr",
     "output_type": "stream",
     "text": [
      "\r",
      "PermutationExplainer explainer:   1%|▋                                                                                                         | 2/292 [00:00<?, ?it/s]"
     ]
    },
    {
     "name": "stderr",
     "output_type": "stream",
     "text": [
      "\r",
      "PermutationExplainer explainer:   2%|█▋                                                                                                | 5/292 [00:10<00:17, 16.58it/s]"
     ]
    },
    {
     "name": "stderr",
     "output_type": "stream",
     "text": [
      "\r",
      "PermutationExplainer explainer:   2%|██▎                                                                                               | 7/292 [00:10<00:16, 17.28it/s]"
     ]
    },
    {
     "name": "stderr",
     "output_type": "stream",
     "text": [
      "\r",
      "PermutationExplainer explainer:   3%|███                                                                                               | 9/292 [00:10<00:17, 16.27it/s]"
     ]
    },
    {
     "name": "stderr",
     "output_type": "stream",
     "text": [
      "\r",
      "PermutationExplainer explainer:   4%|███▉                                                                                             | 12/292 [00:10<00:14, 18.69it/s]"
     ]
    },
    {
     "name": "stderr",
     "output_type": "stream",
     "text": [
      "\r",
      "PermutationExplainer explainer:   5%|████▉                                                                                            | 15/292 [00:10<00:13, 20.37it/s]"
     ]
    },
    {
     "name": "stderr",
     "output_type": "stream",
     "text": [
      "\r",
      "PermutationExplainer explainer:   6%|█████▉                                                                                           | 18/292 [00:10<00:13, 20.83it/s]"
     ]
    },
    {
     "name": "stderr",
     "output_type": "stream",
     "text": [
      "\r",
      "PermutationExplainer explainer:   7%|██████▉                                                                                          | 21/292 [00:11<00:12, 21.39it/s]"
     ]
    },
    {
     "name": "stderr",
     "output_type": "stream",
     "text": [
      "\r",
      "PermutationExplainer explainer:   8%|███████▉                                                                                         | 24/292 [00:11<00:12, 22.02it/s]"
     ]
    },
    {
     "name": "stderr",
     "output_type": "stream",
     "text": [
      "\r",
      "PermutationExplainer explainer:   9%|████████▉                                                                                        | 27/292 [00:11<00:12, 21.77it/s]"
     ]
    },
    {
     "name": "stderr",
     "output_type": "stream",
     "text": [
      "\r",
      "PermutationExplainer explainer:  10%|█████████▉                                                                                       | 30/292 [00:11<00:12, 20.50it/s]"
     ]
    },
    {
     "name": "stderr",
     "output_type": "stream",
     "text": [
      "\r",
      "PermutationExplainer explainer:  11%|██████████▉                                                                                      | 33/292 [00:11<00:12, 20.96it/s]"
     ]
    },
    {
     "name": "stderr",
     "output_type": "stream",
     "text": [
      "\r",
      "PermutationExplainer explainer:  12%|███████████▉                                                                                     | 36/292 [00:11<00:12, 20.82it/s]"
     ]
    },
    {
     "name": "stderr",
     "output_type": "stream",
     "text": [
      "\r",
      "PermutationExplainer explainer:  13%|████████████▉                                                                                    | 39/292 [00:11<00:12, 20.77it/s]"
     ]
    },
    {
     "name": "stderr",
     "output_type": "stream",
     "text": [
      "\r",
      "PermutationExplainer explainer:  14%|█████████████▉                                                                                   | 42/292 [00:11<00:11, 21.12it/s]"
     ]
    },
    {
     "name": "stderr",
     "output_type": "stream",
     "text": [
      "\r",
      "PermutationExplainer explainer:  15%|██████████████▉                                                                                  | 45/292 [00:12<00:11, 20.88it/s]"
     ]
    },
    {
     "name": "stderr",
     "output_type": "stream",
     "text": [
      "\r",
      "PermutationExplainer explainer:  16%|███████████████▉                                                                                 | 48/292 [00:12<00:11, 21.02it/s]"
     ]
    },
    {
     "name": "stderr",
     "output_type": "stream",
     "text": [
      "\r",
      "PermutationExplainer explainer:  17%|████████████████▉                                                                                | 51/292 [00:12<00:11, 20.13it/s]"
     ]
    },
    {
     "name": "stderr",
     "output_type": "stream",
     "text": [
      "\r",
      "PermutationExplainer explainer:  18%|█████████████████▉                                                                               | 54/292 [00:12<00:11, 19.94it/s]"
     ]
    },
    {
     "name": "stderr",
     "output_type": "stream",
     "text": [
      "\r",
      "PermutationExplainer explainer:  20%|██████████████████▉                                                                              | 57/292 [00:12<00:12, 19.05it/s]"
     ]
    },
    {
     "name": "stderr",
     "output_type": "stream",
     "text": [
      "\r",
      "PermutationExplainer explainer:  20%|███████████████████▌                                                                             | 59/292 [00:12<00:12, 19.20it/s]"
     ]
    },
    {
     "name": "stderr",
     "output_type": "stream",
     "text": [
      "\r",
      "PermutationExplainer explainer:  21%|████████████████████▎                                                                            | 61/292 [00:12<00:12, 19.14it/s]"
     ]
    },
    {
     "name": "stderr",
     "output_type": "stream",
     "text": [
      "\r",
      "PermutationExplainer explainer:  22%|█████████████████████▎                                                                           | 64/292 [00:13<00:12, 18.74it/s]"
     ]
    },
    {
     "name": "stderr",
     "output_type": "stream",
     "text": [
      "\r",
      "PermutationExplainer explainer:  23%|█████████████████████▉                                                                           | 66/292 [00:13<00:11, 18.84it/s]"
     ]
    },
    {
     "name": "stderr",
     "output_type": "stream",
     "text": [
      "\r",
      "PermutationExplainer explainer:  23%|██████████████████████▌                                                                          | 68/292 [00:13<00:12, 18.62it/s]"
     ]
    },
    {
     "name": "stderr",
     "output_type": "stream",
     "text": [
      "\r",
      "PermutationExplainer explainer:  24%|███████████████████████▎                                                                         | 70/292 [00:13<00:13, 17.01it/s]"
     ]
    },
    {
     "name": "stderr",
     "output_type": "stream",
     "text": [
      "\r",
      "PermutationExplainer explainer:  25%|████████████████████████▎                                                                        | 73/292 [00:13<00:11, 18.85it/s]"
     ]
    },
    {
     "name": "stderr",
     "output_type": "stream",
     "text": [
      "\r",
      "PermutationExplainer explainer:  26%|█████████████████████████▏                                                                       | 76/292 [00:13<00:11, 19.60it/s]"
     ]
    },
    {
     "name": "stderr",
     "output_type": "stream",
     "text": [
      "\r",
      "PermutationExplainer explainer:  27%|█████████████████████████▉                                                                       | 78/292 [00:13<00:11, 19.28it/s]"
     ]
    },
    {
     "name": "stderr",
     "output_type": "stream",
     "text": [
      "\r",
      "PermutationExplainer explainer:  28%|██████████████████████████▉                                                                      | 81/292 [00:14<00:10, 20.50it/s]"
     ]
    },
    {
     "name": "stderr",
     "output_type": "stream",
     "text": [
      "\r",
      "PermutationExplainer explainer:  29%|███████████████████████████▉                                                                     | 84/292 [00:14<00:10, 20.73it/s]"
     ]
    },
    {
     "name": "stderr",
     "output_type": "stream",
     "text": [
      "\r",
      "PermutationExplainer explainer:  30%|████████████████████████████▉                                                                    | 87/292 [00:14<00:09, 20.59it/s]"
     ]
    },
    {
     "name": "stderr",
     "output_type": "stream",
     "text": [
      "\r",
      "PermutationExplainer explainer:  31%|█████████████████████████████▉                                                                   | 90/292 [00:14<00:10, 19.37it/s]"
     ]
    },
    {
     "name": "stderr",
     "output_type": "stream",
     "text": [
      "\r",
      "PermutationExplainer explainer:  32%|██████████████████████████████▉                                                                  | 93/292 [00:14<00:09, 20.20it/s]"
     ]
    },
    {
     "name": "stderr",
     "output_type": "stream",
     "text": [
      "\r",
      "PermutationExplainer explainer:  33%|███████████████████████████████▉                                                                 | 96/292 [00:14<00:10, 18.97it/s]"
     ]
    },
    {
     "name": "stderr",
     "output_type": "stream",
     "text": [
      "\r",
      "PermutationExplainer explainer:  34%|████████████████████████████████▉                                                                | 99/292 [00:14<00:09, 19.54it/s]"
     ]
    },
    {
     "name": "stderr",
     "output_type": "stream",
     "text": [
      "\r",
      "PermutationExplainer explainer:  35%|█████████████████████████████████▌                                                              | 102/292 [00:15<00:09, 20.59it/s]"
     ]
    },
    {
     "name": "stderr",
     "output_type": "stream",
     "text": [
      "\r",
      "PermutationExplainer explainer:  36%|██████████████████████████████████▌                                                             | 105/292 [00:15<00:09, 20.01it/s]"
     ]
    },
    {
     "name": "stderr",
     "output_type": "stream",
     "text": [
      "\r",
      "PermutationExplainer explainer:  37%|███████████████████████████████████▌                                                            | 108/292 [00:15<00:10, 17.61it/s]"
     ]
    },
    {
     "name": "stderr",
     "output_type": "stream",
     "text": [
      "\r",
      "PermutationExplainer explainer:  38%|████████████████████████████████████▍                                                           | 111/292 [00:15<00:09, 18.67it/s]"
     ]
    },
    {
     "name": "stderr",
     "output_type": "stream",
     "text": [
      "\r",
      "PermutationExplainer explainer:  39%|█████████████████████████████████████▏                                                          | 113/292 [00:15<00:09, 18.89it/s]"
     ]
    },
    {
     "name": "stderr",
     "output_type": "stream",
     "text": [
      "\r",
      "PermutationExplainer explainer:  39%|█████████████████████████████████████▊                                                          | 115/292 [00:15<00:10, 17.63it/s]"
     ]
    },
    {
     "name": "stderr",
     "output_type": "stream",
     "text": [
      "\r",
      "PermutationExplainer explainer:  40%|██████████████████████████████████████▊                                                         | 118/292 [00:15<00:09, 19.03it/s]"
     ]
    },
    {
     "name": "stderr",
     "output_type": "stream",
     "text": [
      "\r",
      "PermutationExplainer explainer:  41%|███████████████████████████████████████▍                                                        | 120/292 [00:16<00:09, 19.00it/s]"
     ]
    },
    {
     "name": "stderr",
     "output_type": "stream",
     "text": [
      "\r",
      "PermutationExplainer explainer:  42%|████████████████████████████████████████▍                                                       | 123/292 [00:16<00:08, 19.37it/s]"
     ]
    },
    {
     "name": "stderr",
     "output_type": "stream",
     "text": [
      "\r",
      "PermutationExplainer explainer:  43%|█████████████████████████████████████████▍                                                      | 126/292 [00:16<00:08, 20.62it/s]"
     ]
    },
    {
     "name": "stderr",
     "output_type": "stream",
     "text": [
      "\r",
      "PermutationExplainer explainer:  44%|██████████████████████████████████████████▍                                                     | 129/292 [00:16<00:07, 20.71it/s]"
     ]
    },
    {
     "name": "stderr",
     "output_type": "stream",
     "text": [
      "\r",
      "PermutationExplainer explainer:  45%|███████████████████████████████████████████▍                                                    | 132/292 [00:16<00:07, 20.18it/s]"
     ]
    },
    {
     "name": "stderr",
     "output_type": "stream",
     "text": [
      "\r",
      "PermutationExplainer explainer:  46%|████████████████████████████████████████████▍                                                   | 135/292 [00:16<00:08, 19.58it/s]"
     ]
    },
    {
     "name": "stderr",
     "output_type": "stream",
     "text": [
      "\r",
      "PermutationExplainer explainer:  47%|█████████████████████████████████████████████▎                                                  | 138/292 [00:16<00:07, 20.05it/s]"
     ]
    },
    {
     "name": "stderr",
     "output_type": "stream",
     "text": [
      "\r",
      "PermutationExplainer explainer:  48%|██████████████████████████████████████████████▎                                                 | 141/292 [00:17<00:07, 20.81it/s]"
     ]
    },
    {
     "name": "stderr",
     "output_type": "stream",
     "text": [
      "\r",
      "PermutationExplainer explainer:  49%|███████████████████████████████████████████████▎                                                | 144/292 [00:17<00:06, 21.48it/s]"
     ]
    },
    {
     "name": "stderr",
     "output_type": "stream",
     "text": [
      "\r",
      "PermutationExplainer explainer:  50%|████████████████████████████████████████████████▎                                               | 147/292 [00:17<00:06, 20.90it/s]"
     ]
    },
    {
     "name": "stderr",
     "output_type": "stream",
     "text": [
      "\r",
      "PermutationExplainer explainer:  51%|█████████████████████████████████████████████████▎                                              | 150/292 [00:17<00:06, 20.64it/s]"
     ]
    },
    {
     "name": "stderr",
     "output_type": "stream",
     "text": [
      "\r",
      "PermutationExplainer explainer:  52%|██████████████████████████████████████████████████▎                                             | 153/292 [00:17<00:06, 20.98it/s]"
     ]
    },
    {
     "name": "stderr",
     "output_type": "stream",
     "text": [
      "\r",
      "PermutationExplainer explainer:  53%|███████████████████████████████████████████████████▎                                            | 156/292 [00:17<00:06, 21.00it/s]"
     ]
    },
    {
     "name": "stderr",
     "output_type": "stream",
     "text": [
      "\r",
      "PermutationExplainer explainer:  54%|████████████████████████████████████████████████████▎                                           | 159/292 [00:18<00:07, 17.02it/s]"
     ]
    },
    {
     "name": "stderr",
     "output_type": "stream",
     "text": [
      "\r",
      "PermutationExplainer explainer:  55%|████████████████████████████████████████████████████▉                                           | 161/292 [00:18<00:08, 15.35it/s]"
     ]
    },
    {
     "name": "stderr",
     "output_type": "stream",
     "text": [
      "\r",
      "PermutationExplainer explainer:  56%|█████████████████████████████████████████████████████▉                                          | 164/292 [00:18<00:07, 16.13it/s]"
     ]
    },
    {
     "name": "stderr",
     "output_type": "stream",
     "text": [
      "\r",
      "PermutationExplainer explainer:  57%|██████████████████████████████████████████████████████▉                                         | 167/292 [00:18<00:07, 16.76it/s]"
     ]
    },
    {
     "name": "stderr",
     "output_type": "stream",
     "text": [
      "\r",
      "PermutationExplainer explainer:  58%|███████████████████████████████████████████████████████▌                                        | 169/292 [00:18<00:07, 15.85it/s]"
     ]
    },
    {
     "name": "stderr",
     "output_type": "stream",
     "text": [
      "\r",
      "PermutationExplainer explainer:  59%|████████████████████████████████████████████████████████▌                                       | 172/292 [00:18<00:07, 16.73it/s]"
     ]
    },
    {
     "name": "stderr",
     "output_type": "stream",
     "text": [
      "\r",
      "PermutationExplainer explainer:  60%|█████████████████████████████████████████████████████████▏                                      | 174/292 [00:18<00:07, 16.81it/s]"
     ]
    },
    {
     "name": "stderr",
     "output_type": "stream",
     "text": [
      "\r",
      "PermutationExplainer explainer:  60%|█████████████████████████████████████████████████████████▊                                      | 176/292 [00:19<00:08, 14.31it/s]"
     ]
    },
    {
     "name": "stderr",
     "output_type": "stream",
     "text": [
      "\r",
      "PermutationExplainer explainer:  61%|██████████████████████████████████████████████████████████▌                                     | 178/292 [00:19<00:09, 12.03it/s]"
     ]
    },
    {
     "name": "stderr",
     "output_type": "stream",
     "text": [
      "\r",
      "PermutationExplainer explainer:  62%|███████████████████████████████████████████████████████████▏                                    | 180/292 [00:19<00:10, 11.12it/s]"
     ]
    },
    {
     "name": "stderr",
     "output_type": "stream",
     "text": [
      "\r",
      "PermutationExplainer explainer:  62%|███████████████████████████████████████████████████████████▊                                    | 182/292 [00:19<00:09, 11.81it/s]"
     ]
    },
    {
     "name": "stderr",
     "output_type": "stream",
     "text": [
      "\r",
      "PermutationExplainer explainer:  63%|████████████████████████████████████████████████████████████▍                                   | 184/292 [00:19<00:08, 13.02it/s]"
     ]
    },
    {
     "name": "stderr",
     "output_type": "stream",
     "text": [
      "\r",
      "PermutationExplainer explainer:  64%|█████████████████████████████████████████████████████████████▏                                  | 186/292 [00:19<00:07, 14.27it/s]"
     ]
    },
    {
     "name": "stderr",
     "output_type": "stream",
     "text": [
      "\r",
      "PermutationExplainer explainer:  64%|█████████████████████████████████████████████████████████████▊                                  | 188/292 [00:20<00:06, 15.20it/s]"
     ]
    },
    {
     "name": "stderr",
     "output_type": "stream",
     "text": [
      "\r",
      "PermutationExplainer explainer:  65%|██████████████████████████████████████████████████████████████▍                                 | 190/292 [00:20<00:06, 16.17it/s]"
     ]
    },
    {
     "name": "stderr",
     "output_type": "stream",
     "text": [
      "\r",
      "PermutationExplainer explainer:  66%|███████████████████████████████████████████████████████████████▍                                | 193/292 [00:20<00:05, 17.93it/s]"
     ]
    },
    {
     "name": "stderr",
     "output_type": "stream",
     "text": [
      "\r",
      "PermutationExplainer explainer:  67%|████████████████████████████████████████████████████████████████▍                               | 196/292 [00:20<00:05, 18.59it/s]"
     ]
    },
    {
     "name": "stderr",
     "output_type": "stream",
     "text": [
      "\r",
      "PermutationExplainer explainer:  68%|█████████████████████████████████████████████████████████████████                               | 198/292 [00:20<00:05, 17.20it/s]"
     ]
    },
    {
     "name": "stderr",
     "output_type": "stream",
     "text": [
      "\r",
      "PermutationExplainer explainer:  68%|█████████████████████████████████████████████████████████████████▊                              | 200/292 [00:20<00:05, 16.38it/s]"
     ]
    },
    {
     "name": "stderr",
     "output_type": "stream",
     "text": [
      "\r",
      "PermutationExplainer explainer:  69%|██████████████████████████████████████████████████████████████████▍                             | 202/292 [00:20<00:05, 15.69it/s]"
     ]
    },
    {
     "name": "stderr",
     "output_type": "stream",
     "text": [
      "\r",
      "PermutationExplainer explainer:  70%|███████████████████████████████████████████████████████████████████                             | 204/292 [00:21<00:05, 15.88it/s]"
     ]
    },
    {
     "name": "stderr",
     "output_type": "stream",
     "text": [
      "\r",
      "PermutationExplainer explainer:  71%|███████████████████████████████████████████████████████████████████▋                            | 206/292 [00:21<00:05, 15.72it/s]"
     ]
    },
    {
     "name": "stderr",
     "output_type": "stream",
     "text": [
      "\r",
      "PermutationExplainer explainer:  71%|████████████████████████████████████████████████████████████████████▍                           | 208/292 [00:21<00:05, 15.70it/s]"
     ]
    },
    {
     "name": "stderr",
     "output_type": "stream",
     "text": [
      "\r",
      "PermutationExplainer explainer:  72%|█████████████████████████████████████████████████████████████████████                           | 210/292 [00:21<00:05, 14.78it/s]"
     ]
    },
    {
     "name": "stderr",
     "output_type": "stream",
     "text": [
      "\r",
      "PermutationExplainer explainer:  73%|█████████████████████████████████████████████████████████████████████▋                          | 212/292 [00:21<00:06, 12.77it/s]"
     ]
    },
    {
     "name": "stderr",
     "output_type": "stream",
     "text": [
      "\r",
      "PermutationExplainer explainer:  73%|██████████████████████████████████████████████████████████████████████▎                         | 214/292 [00:21<00:06, 11.32it/s]"
     ]
    },
    {
     "name": "stderr",
     "output_type": "stream",
     "text": [
      "\r",
      "PermutationExplainer explainer:  74%|███████████████████████████████████████████████████████████████████████                         | 216/292 [00:22<00:06, 11.54it/s]"
     ]
    },
    {
     "name": "stderr",
     "output_type": "stream",
     "text": [
      "\r",
      "PermutationExplainer explainer:  75%|███████████████████████████████████████████████████████████████████████▋                        | 218/292 [00:22<00:05, 13.09it/s]"
     ]
    },
    {
     "name": "stderr",
     "output_type": "stream",
     "text": [
      "\r",
      "PermutationExplainer explainer:  76%|████████████████████████████████████████████████████████████████████████▋                       | 221/292 [00:22<00:04, 16.25it/s]"
     ]
    },
    {
     "name": "stderr",
     "output_type": "stream",
     "text": [
      "\r",
      "PermutationExplainer explainer:  76%|█████████████████████████████████████████████████████████████████████████▎                      | 223/292 [00:22<00:04, 16.85it/s]"
     ]
    },
    {
     "name": "stderr",
     "output_type": "stream",
     "text": [
      "\r",
      "PermutationExplainer explainer:  77%|██████████████████████████████████████████████████████████████████████████▎                     | 226/292 [00:22<00:03, 18.81it/s]"
     ]
    },
    {
     "name": "stderr",
     "output_type": "stream",
     "text": [
      "\r",
      "PermutationExplainer explainer:  78%|███████████████████████████████████████████████████████████████████████████▎                    | 229/292 [00:22<00:03, 19.89it/s]"
     ]
    },
    {
     "name": "stderr",
     "output_type": "stream",
     "text": [
      "\r",
      "PermutationExplainer explainer:  79%|████████████████████████████████████████████████████████████████████████████▎                   | 232/292 [00:22<00:02, 21.11it/s]"
     ]
    },
    {
     "name": "stderr",
     "output_type": "stream",
     "text": [
      "\r",
      "PermutationExplainer explainer:  80%|█████████████████████████████████████████████████████████████████████████████▎                  | 235/292 [00:22<00:02, 22.05it/s]"
     ]
    },
    {
     "name": "stderr",
     "output_type": "stream",
     "text": [
      "\r",
      "PermutationExplainer explainer:  82%|██████████████████████████████████████████████████████████████████████████████▏                 | 238/292 [00:23<00:02, 22.48it/s]"
     ]
    },
    {
     "name": "stderr",
     "output_type": "stream",
     "text": [
      "\r",
      "PermutationExplainer explainer:  83%|███████████████████████████████████████████████████████████████████████████████▏                | 241/292 [00:23<00:02, 23.68it/s]"
     ]
    },
    {
     "name": "stderr",
     "output_type": "stream",
     "text": [
      "\r",
      "PermutationExplainer explainer:  84%|████████████████████████████████████████████████████████████████████████████████▏               | 244/292 [00:23<00:02, 22.70it/s]"
     ]
    },
    {
     "name": "stderr",
     "output_type": "stream",
     "text": [
      "\r",
      "PermutationExplainer explainer:  85%|█████████████████████████████████████████████████████████████████████████████████▏              | 247/292 [00:23<00:02, 20.70it/s]"
     ]
    },
    {
     "name": "stderr",
     "output_type": "stream",
     "text": [
      "\r",
      "PermutationExplainer explainer:  86%|██████████████████████████████████████████████████████████████████████████████████▏             | 250/292 [00:23<00:01, 21.74it/s]"
     ]
    },
    {
     "name": "stderr",
     "output_type": "stream",
     "text": [
      "\r",
      "PermutationExplainer explainer:  87%|███████████████████████████████████████████████████████████████████████████████████▏            | 253/292 [00:23<00:02, 19.24it/s]"
     ]
    },
    {
     "name": "stderr",
     "output_type": "stream",
     "text": [
      "\r",
      "PermutationExplainer explainer:  88%|████████████████████████████████████████████████████████████████████████████████████▏           | 256/292 [00:23<00:01, 19.54it/s]"
     ]
    },
    {
     "name": "stderr",
     "output_type": "stream",
     "text": [
      "\r",
      "PermutationExplainer explainer:  89%|█████████████████████████████████████████████████████████████████████████████████████▏          | 259/292 [00:24<00:01, 20.05it/s]"
     ]
    },
    {
     "name": "stderr",
     "output_type": "stream",
     "text": [
      "\r",
      "PermutationExplainer explainer:  90%|██████████████████████████████████████████████████████████████████████████████████████▏         | 262/292 [00:24<00:01, 16.16it/s]"
     ]
    },
    {
     "name": "stderr",
     "output_type": "stream",
     "text": [
      "\r",
      "PermutationExplainer explainer:  91%|███████████████████████████████████████████████████████████████████████████████████████         | 265/292 [00:24<00:01, 17.71it/s]"
     ]
    },
    {
     "name": "stderr",
     "output_type": "stream",
     "text": [
      "\r",
      "PermutationExplainer explainer:  91%|███████████████████████████████████████████████████████████████████████████████████████▊        | 267/292 [00:24<00:01, 17.26it/s]"
     ]
    },
    {
     "name": "stderr",
     "output_type": "stream",
     "text": [
      "\r",
      "PermutationExplainer explainer:  92%|████████████████████████████████████████████████████████████████████████████████████████▊       | 270/292 [00:24<00:01, 18.32it/s]"
     ]
    },
    {
     "name": "stderr",
     "output_type": "stream",
     "text": [
      "\r",
      "PermutationExplainer explainer:  93%|█████████████████████████████████████████████████████████████████████████████████████████▊      | 273/292 [00:24<00:00, 19.95it/s]"
     ]
    },
    {
     "name": "stderr",
     "output_type": "stream",
     "text": [
      "\r",
      "PermutationExplainer explainer:  95%|██████████████████████████████████████████████████████████████████████████████████████████▋     | 276/292 [00:24<00:00, 20.33it/s]"
     ]
    },
    {
     "name": "stderr",
     "output_type": "stream",
     "text": [
      "\r",
      "PermutationExplainer explainer:  96%|███████████████████████████████████████████████████████████████████████████████████████████▋    | 279/292 [00:25<00:00, 17.13it/s]"
     ]
    },
    {
     "name": "stderr",
     "output_type": "stream",
     "text": [
      "\r",
      "PermutationExplainer explainer:  96%|████████████████████████████████████████████████████████████████████████████████████████████▍   | 281/292 [00:25<00:00, 16.73it/s]"
     ]
    },
    {
     "name": "stderr",
     "output_type": "stream",
     "text": [
      "\r",
      "PermutationExplainer explainer:  97%|█████████████████████████████████████████████████████████████████████████████████████████████   | 283/292 [00:25<00:00, 14.84it/s]"
     ]
    },
    {
     "name": "stderr",
     "output_type": "stream",
     "text": [
      "\r",
      "PermutationExplainer explainer:  98%|█████████████████████████████████████████████████████████████████████████████████████████████▋  | 285/292 [00:25<00:00, 14.46it/s]"
     ]
    },
    {
     "name": "stderr",
     "output_type": "stream",
     "text": [
      "\r",
      "PermutationExplainer explainer:  98%|██████████████████████████████████████████████████████████████████████████████████████████████▎ | 287/292 [00:25<00:00, 14.50it/s]"
     ]
    },
    {
     "name": "stderr",
     "output_type": "stream",
     "text": [
      "\r",
      "PermutationExplainer explainer:  99%|███████████████████████████████████████████████████████████████████████████████████████████████ | 289/292 [00:25<00:00, 14.20it/s]"
     ]
    },
    {
     "name": "stderr",
     "output_type": "stream",
     "text": [
      "\r",
      "PermutationExplainer explainer: 100%|███████████████████████████████████████████████████████████████████████████████████████████████▋| 291/292 [00:26<00:00, 14.86it/s]"
     ]
    },
    {
     "name": "stderr",
     "output_type": "stream",
     "text": [
      "\r",
      "PermutationExplainer explainer: 293it [00:26, 15.53it/s]                                                                                                               "
     ]
    },
    {
     "name": "stderr",
     "output_type": "stream",
     "text": [
      "\r",
      "PermutationExplainer explainer: 293it [00:26, 11.11it/s]"
     ]
    },
    {
     "name": "stdout",
     "output_type": "stream",
     "text": [
      "\n",
      "Final RMSE: 28327.55078125\n",
      "Final Selected Features: ['Qual_LivArea_Interaction', 'TotalSF', 'BsmtFinSF1', 'OverallQual', 'TotalBsmtSF', 'HouseAge', 'KitchenQual', 'GarageCars', 'LotArea', 'RemodAge', 'TotalBath', 'GarageFinish', 'YearBuilt', 'BsmtFinType1', 'YearRemodAdd', 'FireplaceQu', 'BsmtQual', 'BsmtExposure', 'lot_frontage_lot_area', 'ExterQual', 'Fireplaces', 'MSZoning_RM', '1stFlrSF', 'GrLivArea', '2ndFlrSF']\n"
     ]
    },
    {
     "name": "stderr",
     "output_type": "stream",
     "text": [
      "\n"
     ]
    }
   ],
   "source": [
    "# Load data\n",
    "train = pd.read_csv('../data/new_train.csv')\n",
    "\n",
    "# Drop 'Id' if present\n",
    "if 'Id' in train.columns:\n",
    "    train.drop(columns=['Id'], inplace=True)\n",
    "\n",
    "# Separate target and features\n",
    "y = train['SalePrice']\n",
    "X = train.drop(columns=['SalePrice'])\n",
    "\n",
    "# Pearson Correlation for Numerical Features\n",
    "correlation_threshold = 0.2\n",
    "correlation_matrix = X.corrwith(y)\n",
    "num_high_corr_features = correlation_matrix[abs(correlation_matrix) > correlation_threshold].index.tolist()\n",
    "\n",
    "# Keep only highly correlated features\n",
    "selected_features = list(set(num_high_corr_features))\n",
    "\n",
    "# Update X to include only selected features\n",
    "X = X[selected_features]\n",
    "\n",
    "# Split into Train (80%) and Dev (20%)\n",
    "X_train, X_dev, y_train, y_dev = train_test_split(X, y, test_size=0.2, random_state=42)\n",
    "\n",
    "# Train initial XGBoost model\n",
    "initial_xgb_model = XGBRegressor(n_estimators=100, learning_rate=0.05, max_depth=6, random_state=42)\n",
    "initial_xgb_model.fit(X_train, y_train)\n",
    "\n",
    "# Get Feature Importances\n",
    "feature_importances = pd.DataFrame({'Feature': X.columns, 'Importance': initial_xgb_model.feature_importances_})\n",
    "feature_importances = feature_importances.sort_values(by='Importance', ascending=False)\n",
    "\n",
    "# Keep the top 40 features\n",
    "top_features = feature_importances.head(40)['Feature'].tolist()\n",
    "\n",
    "# Recursive Feature Elimination (RFE) to Further Reduce Features\n",
    "rfe_selector = RFE(estimator=initial_xgb_model, n_features_to_select=30, step=1)\n",
    "rfe_selector.fit(X_train[top_features], y_train)\n",
    "\n",
    "rfe_selected_features = [feature for feature, selected in zip(top_features, rfe_selector.support_) if selected]\n",
    "\n",
    "# Filter X_train and X_dev to only RFE-selected features\n",
    "X_train_rfe = X_train[rfe_selected_features]\n",
    "X_dev_rfe = X_dev[rfe_selected_features]\n",
    "\n",
    "# Re-train XGBoost model with RFE-selected features\n",
    "final_xgb_model = XGBRegressor(n_estimators=100, learning_rate=0.05, max_depth=6, random_state=42)\n",
    "final_xgb_model.fit(X_train_rfe, y_train)\n",
    "\n",
    "# Print Feature Mismatch Before SHAP\n",
    "print(\"\\n--- Feature Debugging Before SHAP ---\")\n",
    "print(\"Train Features (X_train):\", list(X_train_rfe.columns))\n",
    "print(\"Dev Features (X_dev):\", list(X_dev_rfe.columns))\n",
    "print(\"RFE Selected Features:\", rfe_selected_features)\n",
    "\n",
    "\n",
    "# Convert all boolean columns to integers\n",
    "X_dev_rfe = X_dev_rfe.astype({col: int for col in X_dev_rfe.select_dtypes(include='bool').columns})\n",
    "\n",
    "# SHAP Analysis - Ensure exact feature alignment\n",
    "explainer = shap.Explainer(lambda x: final_xgb_model.predict(pd.DataFrame(x, columns=X_dev_rfe.columns)), X_dev_rfe, algorithm=\"permutation\")\n",
    "shap_values = explainer(X_dev_rfe)\n",
    "\n",
    "# Calculate SHAP importance\n",
    "shap_importance = pd.DataFrame({'Feature': rfe_selected_features, 'SHAP_Importance': np.abs(shap_values.values).mean(axis=0)})\n",
    "shap_importance = shap_importance.sort_values(by='SHAP_Importance', ascending=False)\n",
    "\n",
    "# Keep the top 25 most influential features based on SHAP\n",
    "final_selected_features = shap_importance.head(25)['Feature'].tolist()\n",
    "\n",
    "# Evaluate Final Model\n",
    "y_pred_final = final_xgb_model.predict(X_dev_rfe)\n",
    "final_rmse = root_mean_squared_error(y_dev, y_pred_final)\n",
    "\n",
    "print(f\"\\nFinal RMSE: {final_rmse}\")\n",
    "print(\"Final Selected Features:\", final_selected_features)\n"
   ]
  },
  {
   "cell_type": "markdown",
   "metadata": {},
   "source": [
    "# Try New Features"
   ]
  },
  {
   "cell_type": "code",
   "execution_count": 3,
   "metadata": {
    "execution": {
     "iopub.execute_input": "2025-07-04T23:20:20.377940Z",
     "iopub.status.busy": "2025-07-04T23:20:20.377940Z",
     "iopub.status.idle": "2025-07-04T23:20:20.411489Z",
     "shell.execute_reply": "2025-07-04T23:20:20.411489Z"
    }
   },
   "outputs": [
    {
     "name": "stdout",
     "output_type": "stream",
     "text": [
      "Columns in use:\n",
      " ['Qual_LivArea_Interaction', 'TotalSF', 'TotalBsmtSF', 'BsmtFinSF1', 'RemodAge', 'OverallQual', 'KitchenQual', 'BsmtQual', 'YearBuilt', 'GarageCars', 'BsmtExposure', 'GarageFinish', 'OpenPorchSF', 'ExterQual', 'FireplaceQu', 'GarageAge', 'TotalBath', '2ndFlrSF', 'BsmtFinType1', 'Fireplaces', 'Functional', 'MSZoning_RL', 'BsmtFullBath', '1stFlrSF', 'HouseAge', 'Neighborhood_Crawfor', 'CentralAir', 'KitchenAbvGr', 'Neighborhood_OldTown', 'TotRmsAbvGrd', 'SalePrice']\n"
     ]
    },
    {
     "data": {
      "text/html": [
       "<div>\n",
       "<style scoped>\n",
       "    .dataframe tbody tr th:only-of-type {\n",
       "        vertical-align: middle;\n",
       "    }\n",
       "\n",
       "    .dataframe tbody tr th {\n",
       "        vertical-align: top;\n",
       "    }\n",
       "\n",
       "    .dataframe thead th {\n",
       "        text-align: right;\n",
       "    }\n",
       "</style>\n",
       "<table border=\"1\" class=\"dataframe\">\n",
       "  <thead>\n",
       "    <tr style=\"text-align: right;\">\n",
       "      <th></th>\n",
       "      <th>Qual_LivArea_Interaction</th>\n",
       "      <th>TotalSF</th>\n",
       "      <th>TotalBsmtSF</th>\n",
       "      <th>BsmtFinSF1</th>\n",
       "      <th>RemodAge</th>\n",
       "      <th>OverallQual</th>\n",
       "      <th>KitchenQual</th>\n",
       "      <th>BsmtQual</th>\n",
       "      <th>YearBuilt</th>\n",
       "      <th>GarageCars</th>\n",
       "      <th>...</th>\n",
       "      <th>MSZoning_RL</th>\n",
       "      <th>BsmtFullBath</th>\n",
       "      <th>1stFlrSF</th>\n",
       "      <th>HouseAge</th>\n",
       "      <th>Neighborhood_Crawfor</th>\n",
       "      <th>CentralAir</th>\n",
       "      <th>KitchenAbvGr</th>\n",
       "      <th>Neighborhood_OldTown</th>\n",
       "      <th>TotRmsAbvGrd</th>\n",
       "      <th>SalePrice</th>\n",
       "    </tr>\n",
       "  </thead>\n",
       "  <tbody>\n",
       "    <tr>\n",
       "      <th>0</th>\n",
       "      <td>11970</td>\n",
       "      <td>2566</td>\n",
       "      <td>856</td>\n",
       "      <td>706</td>\n",
       "      <td>5</td>\n",
       "      <td>7</td>\n",
       "      <td>3</td>\n",
       "      <td>4</td>\n",
       "      <td>2003</td>\n",
       "      <td>2</td>\n",
       "      <td>...</td>\n",
       "      <td>True</td>\n",
       "      <td>1</td>\n",
       "      <td>856</td>\n",
       "      <td>5</td>\n",
       "      <td>False</td>\n",
       "      <td>1</td>\n",
       "      <td>1</td>\n",
       "      <td>False</td>\n",
       "      <td>8</td>\n",
       "      <td>208500</td>\n",
       "    </tr>\n",
       "    <tr>\n",
       "      <th>1</th>\n",
       "      <td>7572</td>\n",
       "      <td>2524</td>\n",
       "      <td>1262</td>\n",
       "      <td>978</td>\n",
       "      <td>31</td>\n",
       "      <td>6</td>\n",
       "      <td>2</td>\n",
       "      <td>4</td>\n",
       "      <td>1976</td>\n",
       "      <td>2</td>\n",
       "      <td>...</td>\n",
       "      <td>True</td>\n",
       "      <td>0</td>\n",
       "      <td>1262</td>\n",
       "      <td>31</td>\n",
       "      <td>False</td>\n",
       "      <td>1</td>\n",
       "      <td>1</td>\n",
       "      <td>False</td>\n",
       "      <td>6</td>\n",
       "      <td>181500</td>\n",
       "    </tr>\n",
       "    <tr>\n",
       "      <th>2</th>\n",
       "      <td>12502</td>\n",
       "      <td>2706</td>\n",
       "      <td>920</td>\n",
       "      <td>486</td>\n",
       "      <td>6</td>\n",
       "      <td>7</td>\n",
       "      <td>3</td>\n",
       "      <td>4</td>\n",
       "      <td>2001</td>\n",
       "      <td>2</td>\n",
       "      <td>...</td>\n",
       "      <td>True</td>\n",
       "      <td>1</td>\n",
       "      <td>920</td>\n",
       "      <td>7</td>\n",
       "      <td>False</td>\n",
       "      <td>1</td>\n",
       "      <td>1</td>\n",
       "      <td>False</td>\n",
       "      <td>6</td>\n",
       "      <td>223500</td>\n",
       "    </tr>\n",
       "    <tr>\n",
       "      <th>3</th>\n",
       "      <td>12019</td>\n",
       "      <td>2473</td>\n",
       "      <td>756</td>\n",
       "      <td>216</td>\n",
       "      <td>36</td>\n",
       "      <td>7</td>\n",
       "      <td>3</td>\n",
       "      <td>3</td>\n",
       "      <td>1915</td>\n",
       "      <td>3</td>\n",
       "      <td>...</td>\n",
       "      <td>True</td>\n",
       "      <td>1</td>\n",
       "      <td>961</td>\n",
       "      <td>91</td>\n",
       "      <td>True</td>\n",
       "      <td>1</td>\n",
       "      <td>1</td>\n",
       "      <td>False</td>\n",
       "      <td>7</td>\n",
       "      <td>140000</td>\n",
       "    </tr>\n",
       "    <tr>\n",
       "      <th>4</th>\n",
       "      <td>17584</td>\n",
       "      <td>3343</td>\n",
       "      <td>1145</td>\n",
       "      <td>655</td>\n",
       "      <td>8</td>\n",
       "      <td>8</td>\n",
       "      <td>3</td>\n",
       "      <td>4</td>\n",
       "      <td>2000</td>\n",
       "      <td>3</td>\n",
       "      <td>...</td>\n",
       "      <td>True</td>\n",
       "      <td>1</td>\n",
       "      <td>1145</td>\n",
       "      <td>8</td>\n",
       "      <td>False</td>\n",
       "      <td>1</td>\n",
       "      <td>1</td>\n",
       "      <td>False</td>\n",
       "      <td>9</td>\n",
       "      <td>250000</td>\n",
       "    </tr>\n",
       "  </tbody>\n",
       "</table>\n",
       "<p>5 rows × 31 columns</p>\n",
       "</div>"
      ],
      "text/plain": [
       "   Qual_LivArea_Interaction  TotalSF  TotalBsmtSF  BsmtFinSF1  RemodAge  \\\n",
       "0                     11970     2566          856         706         5   \n",
       "1                      7572     2524         1262         978        31   \n",
       "2                     12502     2706          920         486         6   \n",
       "3                     12019     2473          756         216        36   \n",
       "4                     17584     3343         1145         655         8   \n",
       "\n",
       "   OverallQual  KitchenQual  BsmtQual  YearBuilt  GarageCars  ...  \\\n",
       "0            7            3         4       2003           2  ...   \n",
       "1            6            2         4       1976           2  ...   \n",
       "2            7            3         4       2001           2  ...   \n",
       "3            7            3         3       1915           3  ...   \n",
       "4            8            3         4       2000           3  ...   \n",
       "\n",
       "   MSZoning_RL  BsmtFullBath  1stFlrSF  HouseAge  Neighborhood_Crawfor  \\\n",
       "0         True             1       856         5                 False   \n",
       "1         True             0      1262        31                 False   \n",
       "2         True             1       920         7                 False   \n",
       "3         True             1       961        91                  True   \n",
       "4         True             1      1145         8                 False   \n",
       "\n",
       "   CentralAir  KitchenAbvGr  Neighborhood_OldTown  TotRmsAbvGrd  SalePrice  \n",
       "0           1             1                 False             8     208500  \n",
       "1           1             1                 False             6     181500  \n",
       "2           1             1                 False             6     223500  \n",
       "3           1             1                 False             7     140000  \n",
       "4           1             1                 False             9     250000  \n",
       "\n",
       "[5 rows x 31 columns]"
      ]
     },
     "execution_count": 3,
     "metadata": {},
     "output_type": "execute_result"
    }
   ],
   "source": [
    "selected_features = ['Qual_LivArea_Interaction', 'TotalSF', 'TotalBsmtSF', 'BsmtFinSF1', 'RemodAge', 'OverallQual', 'KitchenQual', 'BsmtQual', 'YearBuilt', 'GarageCars', 'BsmtExposure', 'GarageFinish', 'OpenPorchSF', 'ExterQual', 'FireplaceQu', 'GarageAge', 'TotalBath', '2ndFlrSF', 'BsmtFinType1', 'Fireplaces', 'Functional', 'MSZoning_RL', 'BsmtFullBath', '1stFlrSF', 'HouseAge', 'Neighborhood_Crawfor', 'CentralAir', 'KitchenAbvGr', 'Neighborhood_OldTown', 'TotRmsAbvGrd']\n",
    "target = \"SalePrice\"\n",
    "\n",
    "all_cols_needed = selected_features + [target]\n",
    "df = train[all_cols_needed].copy()\n",
    "\n",
    "print(\"Columns in use:\\n\", df.columns.tolist())\n",
    "df.head()\n"
   ]
  },
  {
   "cell_type": "markdown",
   "metadata": {},
   "source": [
    "# Define features and target"
   ]
  },
  {
   "cell_type": "code",
   "execution_count": 4,
   "metadata": {
    "execution": {
     "iopub.execute_input": "2025-07-04T23:20:20.414979Z",
     "iopub.status.busy": "2025-07-04T23:20:20.411489Z",
     "iopub.status.idle": "2025-07-04T23:20:20.421083Z",
     "shell.execute_reply": "2025-07-04T23:20:20.421083Z"
    }
   },
   "outputs": [
    {
     "name": "stdout",
     "output_type": "stream",
     "text": [
      "X shape: (1460, 30)\n",
      "y shape: (1460,)\n"
     ]
    }
   ],
   "source": [
    "X = df[selected_features]\n",
    "y = df[target]\n",
    "\n",
    "print(\"X shape:\", X.shape)\n",
    "print(\"y shape:\", y.shape)\n"
   ]
  },
  {
   "cell_type": "markdown",
   "metadata": {},
   "source": [
    "# Split Train and Dev Set"
   ]
  },
  {
   "cell_type": "code",
   "execution_count": 5,
   "metadata": {
    "execution": {
     "iopub.execute_input": "2025-07-04T23:20:20.421083Z",
     "iopub.status.busy": "2025-07-04T23:20:20.421083Z",
     "iopub.status.idle": "2025-07-04T23:20:20.428766Z",
     "shell.execute_reply": "2025-07-04T23:20:20.428766Z"
    }
   },
   "outputs": [
    {
     "name": "stdout",
     "output_type": "stream",
     "text": [
      "Train shapes: (1168, 30) (1168,)\n",
      "Dev shapes: (292, 30) (292,)\n"
     ]
    }
   ],
   "source": [
    "X_train, X_dev, y_train, y_dev = train_test_split(\n",
    "    X, y, test_size=0.2, random_state=36\n",
    ")\n",
    "print(\"Train shapes:\", X_train.shape, y_train.shape)\n",
    "print(\"Dev shapes:\", X_dev.shape, y_dev.shape)\n"
   ]
  },
  {
   "cell_type": "markdown",
   "metadata": {},
   "source": [
    "# Train XGBoost"
   ]
  },
  {
   "cell_type": "code",
   "execution_count": 6,
   "metadata": {
    "execution": {
     "iopub.execute_input": "2025-07-04T23:20:20.428766Z",
     "iopub.status.busy": "2025-07-04T23:20:20.428766Z",
     "iopub.status.idle": "2025-07-04T23:20:20.663916Z",
     "shell.execute_reply": "2025-07-04T23:20:20.663916Z"
    }
   },
   "outputs": [
    {
     "name": "stdout",
     "output_type": "stream",
     "text": [
      "[0]\tvalidation_0-rmse:82824.75716\n"
     ]
    },
    {
     "name": "stdout",
     "output_type": "stream",
     "text": [
      "[10]\tvalidation_0-rmse:73564.48468\n"
     ]
    },
    {
     "name": "stdout",
     "output_type": "stream",
     "text": [
      "[20]\tvalidation_0-rmse:65665.17073\n"
     ]
    },
    {
     "name": "stdout",
     "output_type": "stream",
     "text": [
      "[30]\tvalidation_0-rmse:59045.70942\n"
     ]
    },
    {
     "name": "stdout",
     "output_type": "stream",
     "text": [
      "[40]\tvalidation_0-rmse:53592.75701\n"
     ]
    },
    {
     "name": "stdout",
     "output_type": "stream",
     "text": [
      "[50]\tvalidation_0-rmse:49100.11313\n"
     ]
    },
    {
     "name": "stdout",
     "output_type": "stream",
     "text": [
      "[60]\tvalidation_0-rmse:45308.58193\n"
     ]
    },
    {
     "name": "stdout",
     "output_type": "stream",
     "text": [
      "[70]\tvalidation_0-rmse:42120.87716\n"
     ]
    },
    {
     "name": "stdout",
     "output_type": "stream",
     "text": [
      "[80]\tvalidation_0-rmse:39460.40994"
     ]
    },
    {
     "name": "stdout",
     "output_type": "stream",
     "text": [
      "\n"
     ]
    },
    {
     "name": "stdout",
     "output_type": "stream",
     "text": [
      "[90]\tvalidation_0-rmse:37459.55306\n"
     ]
    },
    {
     "name": "stdout",
     "output_type": "stream",
     "text": [
      "[100]\tvalidation_0-rmse:35788.10865\n"
     ]
    },
    {
     "name": "stdout",
     "output_type": "stream",
     "text": [
      "[110]\tvalidation_0-rmse:34368.51152\n"
     ]
    },
    {
     "name": "stdout",
     "output_type": "stream",
     "text": [
      "[120]\tvalidation_0-rmse:33190.57501"
     ]
    },
    {
     "name": "stdout",
     "output_type": "stream",
     "text": [
      "\n"
     ]
    },
    {
     "name": "stdout",
     "output_type": "stream",
     "text": [
      "[130]\tvalidation_0-rmse:32258.37146"
     ]
    },
    {
     "name": "stdout",
     "output_type": "stream",
     "text": [
      "\n"
     ]
    },
    {
     "name": "stdout",
     "output_type": "stream",
     "text": [
      "[140]\tvalidation_0-rmse:31298.76419\n"
     ]
    },
    {
     "name": "stdout",
     "output_type": "stream",
     "text": [
      "[150]\tvalidation_0-rmse:30647.78777"
     ]
    },
    {
     "name": "stdout",
     "output_type": "stream",
     "text": [
      "\n"
     ]
    },
    {
     "name": "stdout",
     "output_type": "stream",
     "text": [
      "[160]\tvalidation_0-rmse:30101.00742\n"
     ]
    },
    {
     "name": "stdout",
     "output_type": "stream",
     "text": [
      "[170]\tvalidation_0-rmse:29594.35876\n"
     ]
    },
    {
     "name": "stdout",
     "output_type": "stream",
     "text": [
      "[179]\tvalidation_0-rmse:29181.29680\n"
     ]
    },
    {
     "name": "stdout",
     "output_type": "stream",
     "text": [
      "Train RMSE: 26,099"
     ]
    },
    {
     "name": "stdout",
     "output_type": "stream",
     "text": [
      "\n",
      "Dev RMSE: 29,181\n"
     ]
    }
   ],
   "source": [
    "model = XGBRegressor(\n",
    "    n_estimators=180,\n",
    "    learning_rate=0.02,\n",
    "    max_depth=3,\n",
    "    subsample=0.6,\n",
    "    colsample_bytree=0.6,\n",
    "    reg_alpha=10,\n",
    "    reg_lambda=10,\n",
    "    gamma=5,\n",
    "    random_state=36,\n",
    "    early_stopping_rounds=50\n",
    ")\n",
    "\n",
    "model.fit(\n",
    "    X_train, y_train,\n",
    "    eval_set=[(X_dev, y_dev)],\n",
    "    verbose=10\n",
    ")\n",
    "\n",
    "# Predict and evaluate\n",
    "y_train_pred = model.predict(X_train)\n",
    "y_dev_pred = model.predict(X_dev)\n",
    "train_rmse = root_mean_squared_error(y_train, y_train_pred)\n",
    "dev_rmse = root_mean_squared_error(y_dev, y_dev_pred)\n",
    "\n",
    "print(f\"Train RMSE: {train_rmse:,.0f}\")\n",
    "print(f\"Dev RMSE: {dev_rmse:,.0f}\")"
   ]
  },
  {
   "cell_type": "markdown",
   "metadata": {},
   "source": [
    "# Residual Analysis"
   ]
  },
  {
   "cell_type": "code",
   "execution_count": 7,
   "metadata": {
    "execution": {
     "iopub.execute_input": "2025-07-04T23:20:20.666429Z",
     "iopub.status.busy": "2025-07-04T23:20:20.663916Z",
     "iopub.status.idle": "2025-07-04T23:20:20.673832Z",
     "shell.execute_reply": "2025-07-04T23:20:20.673832Z"
    }
   },
   "outputs": [
    {
     "data": {
      "text/html": [
       "<div>\n",
       "<style scoped>\n",
       "    .dataframe tbody tr th:only-of-type {\n",
       "        vertical-align: middle;\n",
       "    }\n",
       "\n",
       "    .dataframe tbody tr th {\n",
       "        vertical-align: top;\n",
       "    }\n",
       "\n",
       "    .dataframe thead th {\n",
       "        text-align: right;\n",
       "    }\n",
       "</style>\n",
       "<table border=\"1\" class=\"dataframe\">\n",
       "  <thead>\n",
       "    <tr style=\"text-align: right;\">\n",
       "      <th></th>\n",
       "      <th>Actual</th>\n",
       "      <th>Predicted</th>\n",
       "      <th>Residual</th>\n",
       "    </tr>\n",
       "  </thead>\n",
       "  <tbody>\n",
       "    <tr>\n",
       "      <th>1057</th>\n",
       "      <td>248000</td>\n",
       "      <td>214318.703125</td>\n",
       "      <td>33681.296875</td>\n",
       "    </tr>\n",
       "    <tr>\n",
       "      <th>1391</th>\n",
       "      <td>124000</td>\n",
       "      <td>148126.187500</td>\n",
       "      <td>-24126.187500</td>\n",
       "    </tr>\n",
       "    <tr>\n",
       "      <th>291</th>\n",
       "      <td>135900</td>\n",
       "      <td>141652.500000</td>\n",
       "      <td>-5752.500000</td>\n",
       "    </tr>\n",
       "    <tr>\n",
       "      <th>226</th>\n",
       "      <td>290000</td>\n",
       "      <td>275847.125000</td>\n",
       "      <td>14152.875000</td>\n",
       "    </tr>\n",
       "    <tr>\n",
       "      <th>622</th>\n",
       "      <td>135000</td>\n",
       "      <td>129814.179688</td>\n",
       "      <td>5185.820312</td>\n",
       "    </tr>\n",
       "    <tr>\n",
       "      <th>514</th>\n",
       "      <td>96500</td>\n",
       "      <td>108747.171875</td>\n",
       "      <td>-12247.171875</td>\n",
       "    </tr>\n",
       "    <tr>\n",
       "      <th>1383</th>\n",
       "      <td>112000</td>\n",
       "      <td>135451.234375</td>\n",
       "      <td>-23451.234375</td>\n",
       "    </tr>\n",
       "    <tr>\n",
       "      <th>524</th>\n",
       "      <td>315750</td>\n",
       "      <td>283192.937500</td>\n",
       "      <td>32557.062500</td>\n",
       "    </tr>\n",
       "    <tr>\n",
       "      <th>145</th>\n",
       "      <td>130000</td>\n",
       "      <td>177817.640625</td>\n",
       "      <td>-47817.640625</td>\n",
       "    </tr>\n",
       "    <tr>\n",
       "      <th>209</th>\n",
       "      <td>145000</td>\n",
       "      <td>143506.687500</td>\n",
       "      <td>1493.312500</td>\n",
       "    </tr>\n",
       "  </tbody>\n",
       "</table>\n",
       "</div>"
      ],
      "text/plain": [
       "      Actual      Predicted      Residual\n",
       "1057  248000  214318.703125  33681.296875\n",
       "1391  124000  148126.187500 -24126.187500\n",
       "291   135900  141652.500000  -5752.500000\n",
       "226   290000  275847.125000  14152.875000\n",
       "622   135000  129814.179688   5185.820312\n",
       "514    96500  108747.171875 -12247.171875\n",
       "1383  112000  135451.234375 -23451.234375\n",
       "524   315750  283192.937500  32557.062500\n",
       "145   130000  177817.640625 -47817.640625\n",
       "209   145000  143506.687500   1493.312500"
      ]
     },
     "execution_count": 7,
     "metadata": {},
     "output_type": "execute_result"
    }
   ],
   "source": [
    "# Compute residuals: actual - predicted\n",
    "residuals = y_dev - y_dev_pred\n",
    "df_res = pd.DataFrame({\n",
    "    'Actual': y_dev,\n",
    "    'Predicted': y_dev_pred,\n",
    "    'Residual': residuals\n",
    "})\n",
    "df_res.head(10)\n"
   ]
  },
  {
   "cell_type": "code",
   "execution_count": 8,
   "metadata": {
    "execution": {
     "iopub.execute_input": "2025-07-04T23:20:20.673832Z",
     "iopub.status.busy": "2025-07-04T23:20:20.673832Z",
     "iopub.status.idle": "2025-07-04T23:20:20.917814Z",
     "shell.execute_reply": "2025-07-04T23:20:20.917814Z"
    }
   },
   "outputs": [
    {
     "data": {
      "image/png": "[encoded data removed]",
      "text/plain": [
       "<Figure size 800x500 with 1 Axes>"
      ]
     },
     "metadata": {},
     "output_type": "display_data"
    }
   ],
   "source": [
    "# Distribution of Residuals\n",
    "plt.figure(figsize=(8,5))\n",
    "sns.histplot(residuals, kde=True, color='blue')\n",
    "plt.title('Distribution of Residuals')\n",
    "plt.xlabel('Residual (Actual - Predicted)')\n",
    "plt.show()\n"
   ]
  },
  {
   "cell_type": "code",
   "execution_count": 9,
   "metadata": {
    "execution": {
     "iopub.execute_input": "2025-07-04T23:20:20.917814Z",
     "iopub.status.busy": "2025-07-04T23:20:20.917814Z",
     "iopub.status.idle": "2025-07-04T23:20:21.075958Z",
     "shell.execute_reply": "2025-07-04T23:20:21.075958Z"
    }
   },
   "outputs": [
    {
     "data": {
      "image/png": "[encoded data removed]",
      "text/plain": [
       "<Figure size 800x500 with 1 Axes>"
      ]
     },
     "metadata": {},
     "output_type": "display_data"
    }
   ],
   "source": [
    "# Residuals vs. Actual\n",
    "plt.figure(figsize=(8,5))\n",
    "sns.scatterplot(x=y_dev, y=residuals, alpha=0.6)\n",
    "plt.axhline(y=0, color='r', linestyle='--')\n",
    "plt.title('Residuals vs. Actual Values')\n",
    "plt.xlabel('Actual SalePrice')\n",
    "plt.ylabel('Residual')\n",
    "plt.show()\n"
   ]
  },
  {
   "cell_type": "markdown",
   "metadata": {},
   "source": [
    "# Load and Predict on Test Dataset"
   ]
  },
  {
   "cell_type": "code",
   "execution_count": 10,
   "metadata": {
    "execution": {
     "iopub.execute_input": "2025-07-04T23:20:21.075958Z",
     "iopub.status.busy": "2025-07-04T23:20:21.075958Z",
     "iopub.status.idle": "2025-07-04T23:20:21.133787Z",
     "shell.execute_reply": "2025-07-04T23:20:21.133787Z"
    }
   },
   "outputs": [
    {
     "name": "stdout",
     "output_type": "stream",
     "text": [
      "Submission file saved as 'submission.csv'.\n"
     ]
    }
   ],
   "source": [
    "test = pd.read_csv('../data/new_test.csv')\n",
    "test_ids = test['Id']\n",
    "test = test[list(X_train.columns)]\n",
    "y_test_pred = model.predict(test)\n",
    "submission = pd.DataFrame({'Id': test_ids, 'SalePrice': y_test_pred})\n",
    "submission.to_csv('submission.csv', index=False)\n",
    "print(\"Submission file saved as 'submission.csv'.\")"
   ]
  }
 ],
 "metadata": {
  "kernelspec": {
   "display_name": "Python 3",
   "language": "python",
   "name": "python3"
  },
  "language_info": {
   "codemirror_mode": {
    "name": "ipython",
    "version": 3
   },
   "file_extension": ".py",
   "mimetype": "text/x-python",
   "name": "python",
   "nbconvert_exporter": "python",
   "pygments_lexer": "ipython3",
   "version": "3.12.6"
  }
 },
 "nbformat": 4,
 "nbformat_minor": 2
}
