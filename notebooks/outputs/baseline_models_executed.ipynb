{
 "cells": [
  {
   "cell_type": "markdown",
   "metadata": {},
   "source": [
    "# Import Libraries"
   ]
  },
  {
   "cell_type": "code",
   "execution_count": 1,
   "metadata": {
    "execution": {
     "iopub.execute_input": "2025-07-04T23:19:38.947125Z",
     "iopub.status.busy": "2025-07-04T23:19:38.947125Z",
     "iopub.status.idle": "2025-07-04T23:19:40.671488Z",
     "shell.execute_reply": "2025-07-04T23:19:40.671488Z"
    }
   },
   "outputs": [],
   "source": [
    "import numpy as np\n",
    "import pandas as pd\n",
    "from sklearn.svm import SVR\n",
    "from xgboost import XGBRegressor\n",
    "from sklearn.preprocessing import StandardScaler\n",
    "from sklearn.linear_model import LinearRegression\n",
    "from sklearn.ensemble import RandomForestRegressor\n",
    "from sklearn.model_selection import train_test_split\n",
    "from sklearn.metrics import mean_squared_error, r2_score\n",
    "\n"
   ]
  },
  {
   "cell_type": "markdown",
   "metadata": {},
   "source": [
    "# Load Clean Dataset"
   ]
  },
  {
   "cell_type": "code",
   "execution_count": 2,
   "metadata": {
    "execution": {
     "iopub.execute_input": "2025-07-04T23:19:40.671488Z",
     "iopub.status.busy": "2025-07-04T23:19:40.671488Z",
     "iopub.status.idle": "2025-07-04T23:19:40.739744Z",
     "shell.execute_reply": "2025-07-04T23:19:40.739744Z"
    }
   },
   "outputs": [],
   "source": [
    "train = pd.read_csv('../data/clean_train.csv')\n",
    "test = pd.read_csv('../data/clean_test.csv')"
   ]
  },
  {
   "cell_type": "markdown",
   "metadata": {},
   "source": [
    "# Split Train Dataset 80/20"
   ]
  },
  {
   "cell_type": "code",
   "execution_count": 3,
   "metadata": {
    "execution": {
     "iopub.execute_input": "2025-07-04T23:19:40.739744Z",
     "iopub.status.busy": "2025-07-04T23:19:40.739744Z",
     "iopub.status.idle": "2025-07-04T23:19:40.754815Z",
     "shell.execute_reply": "2025-07-04T23:19:40.754815Z"
    }
   },
   "outputs": [],
   "source": [
    "X = train.drop(columns=['SalePrice'])\n",
    "y = train['SalePrice']\n",
    "X_train, X_val, y_train, y_val = train_test_split(X, y, test_size=0.2, random_state=42)"
   ]
  },
  {
   "cell_type": "markdown",
   "metadata": {},
   "source": [
    "# Scale Features"
   ]
  },
  {
   "cell_type": "code",
   "execution_count": 4,
   "metadata": {
    "execution": {
     "iopub.execute_input": "2025-07-04T23:19:40.756830Z",
     "iopub.status.busy": "2025-07-04T23:19:40.756830Z",
     "iopub.status.idle": "2025-07-04T23:19:40.781376Z",
     "shell.execute_reply": "2025-07-04T23:19:40.781376Z"
    }
   },
   "outputs": [],
   "source": [
    "scaler = StandardScaler()\n",
    "\n",
    "X_train_scaled = scaler.fit_transform(X_train)\n",
    "X_val_scaled = scaler.transform(X_val)\n",
    "X_test_scaled = scaler.transform(test)"
   ]
  },
  {
   "cell_type": "markdown",
   "metadata": {},
   "source": [
    "# Train and Evaluate Baseline Models"
   ]
  },
  {
   "cell_type": "code",
   "execution_count": 5,
   "metadata": {
    "execution": {
     "iopub.execute_input": "2025-07-04T23:19:40.783381Z",
     "iopub.status.busy": "2025-07-04T23:19:40.783381Z",
     "iopub.status.idle": "2025-07-04T23:19:44.359373Z",
     "shell.execute_reply": "2025-07-04T23:19:44.359373Z"
    }
   },
   "outputs": [
    {
     "name": "stdout",
     "output_type": "stream",
     "text": [
      "Evaluating Linear Regression...\n",
      "Model: LinearRegression\n",
      "R²: 0.6814\n",
      "RMSE: 49438.2641\n",
      "------------------------------\n",
      "Evaluating Random Forest...\n"
     ]
    },
    {
     "name": "stdout",
     "output_type": "stream",
     "text": [
      "Model: RandomForestRegressor\n",
      "R²: 0.8866\n",
      "RMSE: 29492.5507\n",
      "------------------------------\n",
      "Evaluating XGBoost...\n"
     ]
    },
    {
     "name": "stdout",
     "output_type": "stream",
     "text": [
      "Model: XGBRegressor\n",
      "R²: 0.8924\n",
      "RMSE: 28725.8345\n",
      "------------------------------\n",
      "Evaluating SVM...\n"
     ]
    },
    {
     "name": "stdout",
     "output_type": "stream",
     "text": [
      "Model: SVR\n",
      "R²: -0.0247\n",
      "RMSE: 88657.4355\n",
      "------------------------------\n"
     ]
    }
   ],
   "source": [
    "def evaluate_model(model, X_train, y_train, X_val, y_val):\n",
    "    model.fit(X_train, y_train)\n",
    "    y_pred = model.predict(X_val)\n",
    "    r2 = r2_score(y_val, y_pred)\n",
    "    rmse = np.sqrt(mean_squared_error(y_val, y_pred))\n",
    "    print(f\"Model: {model.__class__.__name__}\")\n",
    "    print(f\"R²: {r2:.4f}\")\n",
    "    print(f\"RMSE: {rmse:.4f}\")\n",
    "    print(\"-\" * 30)\n",
    "    return model\n",
    "\n",
    "models = {\n",
    "    \"Linear Regression\": LinearRegression(),\n",
    "    \"Random Forest\": RandomForestRegressor(random_state=42),\n",
    "    \"XGBoost\": XGBRegressor(random_state=42, objective=\"reg:squarederror\"),\n",
    "    \"SVM\": SVR(kernel=\"rbf\", C=100, gamma=0.1, epsilon=0.1)\n",
    "}\n",
    "\n",
    "trained_models = {}\n",
    "for name, model in models.items():\n",
    "    print(f\"Evaluating {name}...\")\n",
    "    trained_models[name] = evaluate_model(model, X_train_scaled, y_train, X_val_scaled, y_val)"
   ]
  }
 ],
 "metadata": {
  "kernelspec": {
   "display_name": "Python 3",
   "language": "python",
   "name": "python3"
  },
  "language_info": {
   "codemirror_mode": {
    "name": "ipython",
    "version": 3
   },
   "file_extension": ".py",
   "mimetype": "text/x-python",
   "name": "python",
   "nbconvert_exporter": "python",
   "pygments_lexer": "ipython3",
   "version": "3.12.6"
  }
 },
 "nbformat": 4,
 "nbformat_minor": 2
}
