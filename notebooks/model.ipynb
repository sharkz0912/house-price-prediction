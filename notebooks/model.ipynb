{
 "cells": [
  {
   "cell_type": "markdown",
   "metadata": {},
   "source": [
    "# Import Libraries and Load New Dataset"
   ]
  },
  {
   "cell_type": "code",
   "execution_count": 1,
   "metadata": {},
   "outputs": [
    {
     "name": "stdout",
     "output_type": "stream",
     "text": [
      "Shape of train: (1460, 203)\n",
      "['Id', 'MSSubClass', 'LotFrontage', 'LotArea', 'Alley', 'LotShape', 'Utilities', 'LandSlope', 'OverallQual', 'OverallCond', 'YearBuilt', 'YearRemodAdd', 'MasVnrType', 'MasVnrArea', 'ExterQual', 'ExterCond', 'BsmtQual', 'BsmtCond', 'BsmtExposure', 'BsmtFinType1', 'BsmtFinSF1', 'BsmtFinType2', 'BsmtFinSF2', 'BsmtUnfSF', 'TotalBsmtSF', 'HeatingQC', 'CentralAir', 'Electrical', '1stFlrSF', '2ndFlrSF', 'LowQualFinSF', 'GrLivArea', 'BsmtFullBath', 'BsmtHalfBath', 'FullBath', 'HalfBath', 'BedroomAbvGr', 'KitchenAbvGr', 'KitchenQual', 'TotRmsAbvGrd', 'Functional', 'Fireplaces', 'FireplaceQu', 'GarageType', 'GarageYrBlt', 'GarageFinish', 'GarageCars', 'GarageArea', 'GarageQual', 'GarageCond', 'PavedDrive', 'WoodDeckSF', 'OpenPorchSF', 'EnclosedPorch', '3SsnPorch', 'ScreenPorch', 'PoolArea', 'PoolQC', 'Fence', 'MiscFeature', 'MiscVal', 'MoSold', 'YrSold', 'SalePrice', 'MSZoning_FV', 'MSZoning_RH', 'MSZoning_RL', 'MSZoning_RM', 'Street_Pave', 'LandContour_HLS', 'LandContour_Low', 'LandContour_Lvl', 'LotConfig_CulDSac', 'LotConfig_FR2', 'LotConfig_FR3', 'LotConfig_Inside', 'Neighborhood_Blueste', 'Neighborhood_BrDale', 'Neighborhood_BrkSide', 'Neighborhood_ClearCr', 'Neighborhood_CollgCr', 'Neighborhood_Crawfor', 'Neighborhood_Edwards', 'Neighborhood_Gilbert', 'Neighborhood_IDOTRR', 'Neighborhood_MeadowV', 'Neighborhood_Mitchel', 'Neighborhood_NAmes', 'Neighborhood_NPkVill', 'Neighborhood_NWAmes', 'Neighborhood_NoRidge', 'Neighborhood_NridgHt', 'Neighborhood_OldTown', 'Neighborhood_SWISU', 'Neighborhood_Sawyer', 'Neighborhood_SawyerW', 'Neighborhood_Somerst', 'Neighborhood_StoneBr', 'Neighborhood_Timber', 'Neighborhood_Veenker', 'Condition1_Feedr', 'Condition1_Norm', 'Condition1_PosA', 'Condition1_PosN', 'Condition1_RRAe', 'Condition1_RRAn', 'Condition1_RRNe', 'Condition1_RRNn', 'Condition2_Feedr', 'Condition2_Norm', 'Condition2_PosA', 'Condition2_PosN', 'Condition2_RRAe', 'Condition2_RRAn', 'Condition2_RRNn', 'BldgType_2fmCon', 'BldgType_Duplex', 'BldgType_Twnhs', 'BldgType_TwnhsE', 'HouseStyle_1.5Unf', 'HouseStyle_1Story', 'HouseStyle_2.5Fin', 'HouseStyle_2.5Unf', 'HouseStyle_2Story', 'HouseStyle_SFoyer', 'HouseStyle_SLvl', 'RoofStyle_Gable', 'RoofStyle_Gambrel', 'RoofStyle_Hip', 'RoofStyle_Mansard', 'RoofStyle_Shed', 'RoofMatl_CompShg', 'RoofMatl_Membran', 'RoofMatl_Metal', 'RoofMatl_Roll', 'RoofMatl_Tar&Grv', 'RoofMatl_WdShake', 'RoofMatl_WdShngl', 'Exterior1st_AsphShn', 'Exterior1st_BrkComm', 'Exterior1st_BrkFace', 'Exterior1st_CBlock', 'Exterior1st_CemntBd', 'Exterior1st_HdBoard', 'Exterior1st_ImStucc', 'Exterior1st_MetalSd', 'Exterior1st_Plywood', 'Exterior1st_Stone', 'Exterior1st_Stucco', 'Exterior1st_VinylSd', 'Exterior1st_Wd Sdng', 'Exterior1st_WdShing', 'Exterior2nd_AsphShn', 'Exterior2nd_Brk Cmn', 'Exterior2nd_BrkFace', 'Exterior2nd_CBlock', 'Exterior2nd_CmentBd', 'Exterior2nd_HdBoard', 'Exterior2nd_ImStucc', 'Exterior2nd_MetalSd', 'Exterior2nd_Other', 'Exterior2nd_Plywood', 'Exterior2nd_Stone', 'Exterior2nd_Stucco', 'Exterior2nd_VinylSd', 'Exterior2nd_Wd Sdng', 'Exterior2nd_Wd Shng', 'Foundation_CBlock', 'Foundation_PConc', 'Foundation_Slab', 'Foundation_Stone', 'Foundation_Wood', 'Heating_GasA', 'Heating_GasW', 'Heating_Grav', 'Heating_OthW', 'Heating_Wall', 'SaleType_CWD', 'SaleType_Con', 'SaleType_ConLD', 'SaleType_ConLI', 'SaleType_ConLw', 'SaleType_New', 'SaleType_Oth', 'SaleType_WD', 'SaleCondition_AdjLand', 'SaleCondition_Alloca', 'SaleCondition_Family', 'SaleCondition_Normal', 'SaleCondition_Partial', 'lot_frontage_lot_area', 'TotalSF', 'TotalBath', 'HouseAge', 'RemodAge', 'IsRemodeled', 'GarageAge', 'Qual_LivArea_Interaction', 'has_MasVnrArea', 'has_Bsmt', 'has_2ndFlr', 'has_Garage', 'has_Pool']\n"
     ]
    }
   ],
   "source": [
    "import numpy as np\n",
    "import pandas as pd\n",
    "from xgboost import XGBRegressor\n",
    "from sklearn.metrics import root_mean_squared_error\n",
    "from sklearn.model_selection import train_test_split\n",
    "import shap\n",
    "\n",
    "# Load data\n",
    "train = pd.read_csv('../data/new_train.csv')\n",
    "print(\"Shape of train:\", train.shape)\n",
    "train.head()\n",
    "print(list(train.columns))"
   ]
  },
  {
   "cell_type": "markdown",
   "metadata": {},
   "source": [
    "# Select Features"
   ]
  },
  {
   "cell_type": "code",
   "execution_count": 2,
   "metadata": {},
   "outputs": [
    {
     "name": "stdout",
     "output_type": "stream",
     "text": [
      "\n",
      "--- Feature Debugging Before SHAP ---\n",
      "Train Features (X_train): ['Qual_LivArea_Interaction', 'OverallQual', 'BsmtQual', 'GarageCars', 'TotalSF', 'HouseAge', 'GarageFinish', 'MSZoning_RM', 'KitchenQual', 'TotalBsmtSF', 'BsmtFinSF1', 'YearBuilt', 'CentralAir', '2ndFlrSF', '1stFlrSF', 'RemodAge', 'TotalBath', 'OpenPorchSF', 'lot_frontage_lot_area', 'MSZoning_RL', 'FireplaceQu', 'BsmtFinType1', 'ExterQual', 'GarageQual', 'YearRemodAdd', 'LotArea', 'BsmtCond', 'GarageCond', 'SaleType_New', 'BsmtExposure']\n",
      "Dev Features (X_dev): ['Qual_LivArea_Interaction', 'OverallQual', 'BsmtQual', 'GarageCars', 'TotalSF', 'HouseAge', 'GarageFinish', 'MSZoning_RM', 'KitchenQual', 'TotalBsmtSF', 'BsmtFinSF1', 'YearBuilt', 'CentralAir', '2ndFlrSF', '1stFlrSF', 'RemodAge', 'TotalBath', 'OpenPorchSF', 'lot_frontage_lot_area', 'MSZoning_RL', 'FireplaceQu', 'BsmtFinType1', 'ExterQual', 'GarageQual', 'YearRemodAdd', 'LotArea', 'BsmtCond', 'GarageCond', 'SaleType_New', 'BsmtExposure']\n",
      "RFE Selected Features: ['Qual_LivArea_Interaction', 'OverallQual', 'BsmtQual', 'GarageCars', 'TotalSF', 'HouseAge', 'GarageFinish', 'MSZoning_RM', 'KitchenQual', 'TotalBsmtSF', 'BsmtFinSF1', 'YearBuilt', 'CentralAir', '2ndFlrSF', '1stFlrSF', 'RemodAge', 'TotalBath', 'OpenPorchSF', 'lot_frontage_lot_area', 'MSZoning_RL', 'FireplaceQu', 'BsmtFinType1', 'ExterQual', 'GarageQual', 'YearRemodAdd', 'LotArea', 'BsmtCond', 'GarageCond', 'SaleType_New', 'BsmtExposure']\n"
     ]
    },
    {
     "name": "stderr",
     "output_type": "stream",
     "text": [
      "PermutationExplainer explainer: 293it [00:28,  7.19it/s]                         "
     ]
    },
    {
     "name": "stdout",
     "output_type": "stream",
     "text": [
      "\n",
      "Final RMSE: 28395.841796875\n",
      "Final Selected Features: ['Qual_LivArea_Interaction', 'TotalSF', 'BsmtFinSF1', 'OverallQual', 'TotalBsmtSF', 'FireplaceQu', 'HouseAge', 'GarageCars', 'TotalBath', 'RemodAge', 'KitchenQual', 'LotArea', 'YearBuilt', 'YearRemodAdd', 'BsmtQual', 'GarageFinish', 'BsmtFinType1', 'lot_frontage_lot_area', 'BsmtExposure', 'ExterQual', '1stFlrSF', 'MSZoning_RM', '2ndFlrSF', 'OpenPorchSF', 'BsmtCond']\n"
     ]
    },
    {
     "name": "stderr",
     "output_type": "stream",
     "text": [
      "\n"
     ]
    }
   ],
   "source": [
    "import numpy as np\n",
    "import pandas as pd\n",
    "from xgboost import XGBRegressor\n",
    "from sklearn.model_selection import train_test_split\n",
    "from sklearn.feature_selection import RFE\n",
    "from sklearn.metrics import root_mean_squared_error\n",
    "import shap\n",
    "\n",
    "# Load data\n",
    "train = pd.read_csv('../data/new_train.csv')\n",
    "\n",
    "# Drop 'Id' if present\n",
    "if 'Id' in train.columns:\n",
    "    train.drop(columns=['Id'], inplace=True)\n",
    "\n",
    "# Separate target and features\n",
    "y = train['SalePrice']\n",
    "X = train.drop(columns=['SalePrice'])\n",
    "\n",
    "# Step 1: Pearson Correlation for Numerical Features\n",
    "correlation_threshold = 0.2\n",
    "correlation_matrix = X.corrwith(y)\n",
    "num_high_corr_features = correlation_matrix[abs(correlation_matrix) > correlation_threshold].index.tolist()\n",
    "\n",
    "# Step 2: Keep only highly correlated features\n",
    "selected_features = list(set(num_high_corr_features))\n",
    "\n",
    "# Update X to include only selected features\n",
    "X = X[selected_features]\n",
    "\n",
    "# Split into Train (80%) and Dev (20%)\n",
    "X_train, X_dev, y_train, y_dev = train_test_split(X, y, test_size=0.2, random_state=42)\n",
    "\n",
    "# Train initial XGBoost model\n",
    "initial_xgb_model = XGBRegressor(n_estimators=100, learning_rate=0.05, max_depth=6, random_state=42)\n",
    "initial_xgb_model.fit(X_train, y_train)\n",
    "\n",
    "# Get Feature Importances\n",
    "feature_importances = pd.DataFrame({'Feature': X.columns, 'Importance': initial_xgb_model.feature_importances_})\n",
    "feature_importances = feature_importances.sort_values(by='Importance', ascending=False)\n",
    "\n",
    "# Keep the top 40 features\n",
    "top_features = feature_importances.head(40)['Feature'].tolist()\n",
    "\n",
    "# Step 4: Recursive Feature Elimination (RFE) to Further Reduce Features\n",
    "rfe_selector = RFE(estimator=initial_xgb_model, n_features_to_select=30, step=1)\n",
    "rfe_selector.fit(X_train[top_features], y_train)\n",
    "\n",
    "rfe_selected_features = [feature for feature, selected in zip(top_features, rfe_selector.support_) if selected]\n",
    "\n",
    "# Filter X_train and X_dev to only RFE-selected features\n",
    "X_train_rfe = X_train[rfe_selected_features]\n",
    "X_dev_rfe = X_dev[rfe_selected_features]\n",
    "\n",
    "# **Re-train XGBoost model with RFE-selected features**\n",
    "final_xgb_model = XGBRegressor(n_estimators=100, learning_rate=0.05, max_depth=6, random_state=42)\n",
    "final_xgb_model.fit(X_train_rfe, y_train)\n",
    "\n",
    "# Debugging Step 1: Print Feature Mismatch Before SHAP\n",
    "print(\"\\n--- Feature Debugging Before SHAP ---\")\n",
    "print(\"Train Features (X_train):\", list(X_train_rfe.columns))\n",
    "print(\"Dev Features (X_dev):\", list(X_dev_rfe.columns))\n",
    "print(\"RFE Selected Features:\", rfe_selected_features)\n",
    "\n",
    "# Step 5: SHAP Analysis - Ensure exact feature alignment\n",
    "explainer = shap.Explainer(lambda x: final_xgb_model.predict(pd.DataFrame(x, columns=X_dev_rfe.columns)), X_dev_rfe, algorithm=\"permutation\")\n",
    "shap_values = explainer(X_dev_rfe)\n",
    "\n",
    "# Calculate SHAP importance\n",
    "shap_importance = pd.DataFrame({'Feature': rfe_selected_features, 'SHAP_Importance': np.abs(shap_values.values).mean(axis=0)})\n",
    "shap_importance = shap_importance.sort_values(by='SHAP_Importance', ascending=False)\n",
    "\n",
    "# Keep the top 25 most influential features based on SHAP\n",
    "final_selected_features = shap_importance.head(25)['Feature'].tolist()\n",
    "\n",
    "# Evaluate Final Model\n",
    "y_pred_final = final_xgb_model.predict(X_dev_rfe)\n",
    "final_rmse = root_mean_squared_error(y_dev, y_pred_final)\n",
    "\n",
    "print(f\"\\nFinal RMSE: {final_rmse}\")\n",
    "print(\"Final Selected Features:\", final_selected_features)\n"
   ]
  },
  {
   "cell_type": "code",
   "execution_count": 3,
   "metadata": {},
   "outputs": [
    {
     "name": "stderr",
     "output_type": "stream",
     "text": [
      "PermutationExplainer explainer: 293it [00:26,  6.92it/s]                         \n"
     ]
    },
    {
     "name": "stdout",
     "output_type": "stream",
     "text": [
      "\n",
      "Final RMSE: 28341.126953125\n",
      "Final Selected Features: ['Qual_LivArea_Interaction', 'TotalSF', 'TotalBsmtSF', 'BsmtFinSF1', 'RemodAge', 'OverallQual', 'KitchenQual', 'BsmtQual', 'YearBuilt', 'GarageCars', 'BsmtExposure', 'GarageFinish', 'OpenPorchSF', 'ExterQual', 'FireplaceQu', 'GarageAge', 'TotalBath', '2ndFlrSF', 'BsmtFinType1', 'Fireplaces', 'Functional', 'MSZoning_RL', '1stFlrSF', 'BsmtFullBath', 'HouseAge', 'CentralAir', 'Neighborhood_Crawfor', 'KitchenAbvGr', 'TotRmsAbvGrd', 'Neighborhood_OldTown']\n"
     ]
    }
   ],
   "source": [
    "import numpy as np\n",
    "import pandas as pd\n",
    "from xgboost import XGBRegressor\n",
    "from sklearn.model_selection import train_test_split\n",
    "from sklearn.metrics import root_mean_squared_error\n",
    "import shap\n",
    "\n",
    "# Load data\n",
    "train = pd.read_csv('../data/new_train.csv')\n",
    "\n",
    "# Drop 'Id' if present\n",
    "if 'Id' in train.columns:\n",
    "    train.drop(columns=['Id'], inplace=True)\n",
    "\n",
    "# Separate target and features\n",
    "y = train['SalePrice']\n",
    "X = train.drop(columns=['SalePrice'])\n",
    "\n",
    "# Split into Train (80%) and Dev (20%)\n",
    "X_train, X_dev, y_train, y_dev = train_test_split(X, y, test_size=0.2, random_state=36)\n",
    "\n",
    "# Train initial XGBoost model on all features\n",
    "xgb_model = XGBRegressor(n_estimators=100, learning_rate=0.05, max_depth=6, random_state=36)\n",
    "xgb_model.fit(X_train, y_train)\n",
    "\n",
    "# Step 1: Get Feature Importances from XGBoost\n",
    "feature_importances = pd.DataFrame({'Feature': X_train.columns, 'Importance': xgb_model.feature_importances_})\n",
    "feature_importances = feature_importances.sort_values(by='Importance', ascending=False)\n",
    "\n",
    "# Step 2: Keep the top 40 features based on XGBoost feature importance\n",
    "top_features = feature_importances.head(40)['Feature'].tolist()\n",
    "\n",
    "# Step 3: Train XGBoost with only the top features\n",
    "X_train_top = X_train[top_features]\n",
    "X_dev_top = X_dev[top_features]\n",
    "\n",
    "xgb_model_top = XGBRegressor(n_estimators=100, learning_rate=0.05, max_depth=6, random_state=36)\n",
    "xgb_model_top.fit(X_train_top, y_train)\n",
    "\n",
    "# Step 4: SHAP Analysis\n",
    "explainer = shap.Explainer(lambda x: xgb_model_top.predict(pd.DataFrame(x, columns=X_dev_top.columns)), X_dev_top, algorithm=\"permutation\")\n",
    "shap_values = explainer(X_dev_top)\n",
    "\n",
    "# Step 5: Calculate SHAP importance\n",
    "shap_importance = pd.DataFrame({'Feature': top_features, 'SHAP_Importance': np.abs(shap_values.values).mean(axis=0)})\n",
    "shap_importance = shap_importance.sort_values(by='SHAP_Importance', ascending=False)\n",
    "\n",
    "# Step 6: Keep the top 25 most influential features based on SHAP\n",
    "final_selected_features = shap_importance.head(30)['Feature'].tolist()\n",
    "\n",
    "# Step 7: Retrain Final XGBoost Model with Selected Features\n",
    "X_train_final = X_train[final_selected_features]\n",
    "X_dev_final = X_dev[final_selected_features]\n",
    "\n",
    "xgb_final_model = XGBRegressor(n_estimators=500, learning_rate=0.05, max_depth=6, random_state=42)\n",
    "xgb_final_model.fit(X_train_final, y_train)\n",
    "\n",
    "# Step 8: Evaluate Final Model\n",
    "y_pred_final = xgb_final_model.predict(X_dev_final)\n",
    "final_rmse = root_mean_squared_error(y_dev, y_pred_final)\n",
    "\n",
    "print(f\"\\nFinal RMSE: {final_rmse}\")\n",
    "print(\"Final Selected Features:\", final_selected_features)\n"
   ]
  },
  {
   "cell_type": "markdown",
   "metadata": {},
   "source": []
  },
  {
   "cell_type": "code",
   "execution_count": 4,
   "metadata": {},
   "outputs": [
    {
     "name": "stdout",
     "output_type": "stream",
     "text": [
      "Columns in use:\n",
      " ['Qual_LivArea_Interaction', 'TotalSF', 'TotalBsmtSF', 'BsmtFinSF1', 'RemodAge', 'OverallQual', 'KitchenQual', 'BsmtQual', 'YearBuilt', 'GarageCars', 'BsmtExposure', 'GarageFinish', 'OpenPorchSF', 'ExterQual', 'FireplaceQu', 'GarageAge', 'TotalBath', '2ndFlrSF', 'BsmtFinType1', 'Fireplaces', 'Functional', 'MSZoning_RL', 'BsmtFullBath', '1stFlrSF', 'HouseAge', 'Neighborhood_Crawfor', 'CentralAir', 'KitchenAbvGr', 'Neighborhood_OldTown', 'TotRmsAbvGrd', 'SalePrice']\n"
     ]
    },
    {
     "data": {
      "text/html": [
       "<div>\n",
       "<style scoped>\n",
       "    .dataframe tbody tr th:only-of-type {\n",
       "        vertical-align: middle;\n",
       "    }\n",
       "\n",
       "    .dataframe tbody tr th {\n",
       "        vertical-align: top;\n",
       "    }\n",
       "\n",
       "    .dataframe thead th {\n",
       "        text-align: right;\n",
       "    }\n",
       "</style>\n",
       "<table border=\"1\" class=\"dataframe\">\n",
       "  <thead>\n",
       "    <tr style=\"text-align: right;\">\n",
       "      <th></th>\n",
       "      <th>Qual_LivArea_Interaction</th>\n",
       "      <th>TotalSF</th>\n",
       "      <th>TotalBsmtSF</th>\n",
       "      <th>BsmtFinSF1</th>\n",
       "      <th>RemodAge</th>\n",
       "      <th>OverallQual</th>\n",
       "      <th>KitchenQual</th>\n",
       "      <th>BsmtQual</th>\n",
       "      <th>YearBuilt</th>\n",
       "      <th>GarageCars</th>\n",
       "      <th>...</th>\n",
       "      <th>MSZoning_RL</th>\n",
       "      <th>BsmtFullBath</th>\n",
       "      <th>1stFlrSF</th>\n",
       "      <th>HouseAge</th>\n",
       "      <th>Neighborhood_Crawfor</th>\n",
       "      <th>CentralAir</th>\n",
       "      <th>KitchenAbvGr</th>\n",
       "      <th>Neighborhood_OldTown</th>\n",
       "      <th>TotRmsAbvGrd</th>\n",
       "      <th>SalePrice</th>\n",
       "    </tr>\n",
       "  </thead>\n",
       "  <tbody>\n",
       "    <tr>\n",
       "      <th>0</th>\n",
       "      <td>11970</td>\n",
       "      <td>2566</td>\n",
       "      <td>856</td>\n",
       "      <td>706</td>\n",
       "      <td>5</td>\n",
       "      <td>7</td>\n",
       "      <td>3</td>\n",
       "      <td>4</td>\n",
       "      <td>2003</td>\n",
       "      <td>2</td>\n",
       "      <td>...</td>\n",
       "      <td>1</td>\n",
       "      <td>1</td>\n",
       "      <td>856</td>\n",
       "      <td>5</td>\n",
       "      <td>0</td>\n",
       "      <td>1</td>\n",
       "      <td>1</td>\n",
       "      <td>0</td>\n",
       "      <td>8</td>\n",
       "      <td>208500</td>\n",
       "    </tr>\n",
       "    <tr>\n",
       "      <th>1</th>\n",
       "      <td>7572</td>\n",
       "      <td>2524</td>\n",
       "      <td>1262</td>\n",
       "      <td>978</td>\n",
       "      <td>31</td>\n",
       "      <td>6</td>\n",
       "      <td>2</td>\n",
       "      <td>4</td>\n",
       "      <td>1976</td>\n",
       "      <td>2</td>\n",
       "      <td>...</td>\n",
       "      <td>1</td>\n",
       "      <td>0</td>\n",
       "      <td>1262</td>\n",
       "      <td>31</td>\n",
       "      <td>0</td>\n",
       "      <td>1</td>\n",
       "      <td>1</td>\n",
       "      <td>0</td>\n",
       "      <td>6</td>\n",
       "      <td>181500</td>\n",
       "    </tr>\n",
       "    <tr>\n",
       "      <th>2</th>\n",
       "      <td>12502</td>\n",
       "      <td>2706</td>\n",
       "      <td>920</td>\n",
       "      <td>486</td>\n",
       "      <td>6</td>\n",
       "      <td>7</td>\n",
       "      <td>3</td>\n",
       "      <td>4</td>\n",
       "      <td>2001</td>\n",
       "      <td>2</td>\n",
       "      <td>...</td>\n",
       "      <td>1</td>\n",
       "      <td>1</td>\n",
       "      <td>920</td>\n",
       "      <td>7</td>\n",
       "      <td>0</td>\n",
       "      <td>1</td>\n",
       "      <td>1</td>\n",
       "      <td>0</td>\n",
       "      <td>6</td>\n",
       "      <td>223500</td>\n",
       "    </tr>\n",
       "    <tr>\n",
       "      <th>3</th>\n",
       "      <td>12019</td>\n",
       "      <td>2473</td>\n",
       "      <td>756</td>\n",
       "      <td>216</td>\n",
       "      <td>36</td>\n",
       "      <td>7</td>\n",
       "      <td>3</td>\n",
       "      <td>3</td>\n",
       "      <td>1915</td>\n",
       "      <td>3</td>\n",
       "      <td>...</td>\n",
       "      <td>1</td>\n",
       "      <td>1</td>\n",
       "      <td>961</td>\n",
       "      <td>91</td>\n",
       "      <td>1</td>\n",
       "      <td>1</td>\n",
       "      <td>1</td>\n",
       "      <td>0</td>\n",
       "      <td>7</td>\n",
       "      <td>140000</td>\n",
       "    </tr>\n",
       "    <tr>\n",
       "      <th>4</th>\n",
       "      <td>17584</td>\n",
       "      <td>3343</td>\n",
       "      <td>1145</td>\n",
       "      <td>655</td>\n",
       "      <td>8</td>\n",
       "      <td>8</td>\n",
       "      <td>3</td>\n",
       "      <td>4</td>\n",
       "      <td>2000</td>\n",
       "      <td>3</td>\n",
       "      <td>...</td>\n",
       "      <td>1</td>\n",
       "      <td>1</td>\n",
       "      <td>1145</td>\n",
       "      <td>8</td>\n",
       "      <td>0</td>\n",
       "      <td>1</td>\n",
       "      <td>1</td>\n",
       "      <td>0</td>\n",
       "      <td>9</td>\n",
       "      <td>250000</td>\n",
       "    </tr>\n",
       "  </tbody>\n",
       "</table>\n",
       "<p>5 rows × 31 columns</p>\n",
       "</div>"
      ],
      "text/plain": [
       "   Qual_LivArea_Interaction  TotalSF  TotalBsmtSF  BsmtFinSF1  RemodAge  \\\n",
       "0                     11970     2566          856         706         5   \n",
       "1                      7572     2524         1262         978        31   \n",
       "2                     12502     2706          920         486         6   \n",
       "3                     12019     2473          756         216        36   \n",
       "4                     17584     3343         1145         655         8   \n",
       "\n",
       "   OverallQual  KitchenQual  BsmtQual  YearBuilt  GarageCars  ...  \\\n",
       "0            7            3         4       2003           2  ...   \n",
       "1            6            2         4       1976           2  ...   \n",
       "2            7            3         4       2001           2  ...   \n",
       "3            7            3         3       1915           3  ...   \n",
       "4            8            3         4       2000           3  ...   \n",
       "\n",
       "   MSZoning_RL  BsmtFullBath  1stFlrSF  HouseAge  Neighborhood_Crawfor  \\\n",
       "0            1             1       856         5                     0   \n",
       "1            1             0      1262        31                     0   \n",
       "2            1             1       920         7                     0   \n",
       "3            1             1       961        91                     1   \n",
       "4            1             1      1145         8                     0   \n",
       "\n",
       "   CentralAir  KitchenAbvGr  Neighborhood_OldTown  TotRmsAbvGrd  SalePrice  \n",
       "0           1             1                     0             8     208500  \n",
       "1           1             1                     0             6     181500  \n",
       "2           1             1                     0             6     223500  \n",
       "3           1             1                     0             7     140000  \n",
       "4           1             1                     0             9     250000  \n",
       "\n",
       "[5 rows x 31 columns]"
      ]
     },
     "execution_count": 4,
     "metadata": {},
     "output_type": "execute_result"
    }
   ],
   "source": [
    "selected_features = ['Qual_LivArea_Interaction', 'TotalSF', 'TotalBsmtSF', 'BsmtFinSF1', 'RemodAge', 'OverallQual', 'KitchenQual', 'BsmtQual', 'YearBuilt', 'GarageCars', 'BsmtExposure', 'GarageFinish', 'OpenPorchSF', 'ExterQual', 'FireplaceQu', 'GarageAge', 'TotalBath', '2ndFlrSF', 'BsmtFinType1', 'Fireplaces', 'Functional', 'MSZoning_RL', 'BsmtFullBath', '1stFlrSF', 'HouseAge', 'Neighborhood_Crawfor', 'CentralAir', 'KitchenAbvGr', 'Neighborhood_OldTown', 'TotRmsAbvGrd']\n",
    "target = \"SalePrice\"\n",
    "\n",
    "all_cols_needed = selected_features + [target]\n",
    "df = train[all_cols_needed].copy()\n",
    "\n",
    "print(\"Columns in use:\\n\", df.columns.tolist())\n",
    "df.head()\n"
   ]
  },
  {
   "cell_type": "markdown",
   "metadata": {},
   "source": [
    "# Define features and target"
   ]
  },
  {
   "cell_type": "code",
   "execution_count": 5,
   "metadata": {},
   "outputs": [
    {
     "name": "stdout",
     "output_type": "stream",
     "text": [
      "X shape: (1460, 30)\n",
      "y shape: (1460,)\n"
     ]
    }
   ],
   "source": [
    "X = df[selected_features]\n",
    "y = df[target]\n",
    "\n",
    "print(\"X shape:\", X.shape)\n",
    "print(\"y shape:\", y.shape)\n"
   ]
  },
  {
   "cell_type": "markdown",
   "metadata": {},
   "source": [
    "# Split Train and Dev Set"
   ]
  },
  {
   "cell_type": "code",
   "execution_count": 6,
   "metadata": {},
   "outputs": [
    {
     "name": "stdout",
     "output_type": "stream",
     "text": [
      "Train shapes: (1168, 30) (1168,)\n",
      "Dev shapes: (292, 30) (292,)\n"
     ]
    }
   ],
   "source": [
    "X_train, X_dev, y_train, y_dev = train_test_split(\n",
    "    X, y, test_size=0.2, random_state=36\n",
    ")\n",
    "print(\"Train shapes:\", X_train.shape, y_train.shape)\n",
    "print(\"Dev shapes:\", X_dev.shape, y_dev.shape)\n"
   ]
  },
  {
   "cell_type": "markdown",
   "metadata": {},
   "source": [
    "# Train XGBoost"
   ]
  },
  {
   "cell_type": "code",
   "execution_count": 7,
   "metadata": {},
   "outputs": [
    {
     "name": "stdout",
     "output_type": "stream",
     "text": [
      "[0]\tvalidation_0-rmse:82845.78146\n",
      "[10]\tvalidation_0-rmse:73603.04653\n",
      "[20]\tvalidation_0-rmse:65788.54594\n",
      "[30]\tvalidation_0-rmse:59163.50086\n",
      "[40]\tvalidation_0-rmse:53553.65871\n",
      "[50]\tvalidation_0-rmse:49003.63905\n",
      "[60]\tvalidation_0-rmse:45252.47536\n",
      "[70]\tvalidation_0-rmse:42103.21119\n",
      "[80]\tvalidation_0-rmse:39474.57911\n",
      "[90]\tvalidation_0-rmse:37373.14143\n",
      "[100]\tvalidation_0-rmse:35724.79536\n",
      "[110]\tvalidation_0-rmse:34321.23405\n",
      "[120]\tvalidation_0-rmse:33158.77570\n",
      "[130]\tvalidation_0-rmse:32251.34196\n",
      "[140]\tvalidation_0-rmse:31315.06387\n",
      "[150]\tvalidation_0-rmse:30665.34020\n",
      "[160]\tvalidation_0-rmse:30111.95908\n",
      "[170]\tvalidation_0-rmse:29634.38821\n",
      "[180]\tvalidation_0-rmse:29123.39445\n",
      "[190]\tvalidation_0-rmse:28783.60686\n",
      "[200]\tvalidation_0-rmse:28552.07343\n",
      "[210]\tvalidation_0-rmse:28359.05252\n",
      "[220]\tvalidation_0-rmse:28123.82049\n",
      "[230]\tvalidation_0-rmse:27904.33852\n",
      "[240]\tvalidation_0-rmse:27685.34294\n",
      "[250]\tvalidation_0-rmse:27547.64936\n",
      "[260]\tvalidation_0-rmse:27385.84289\n",
      "[270]\tvalidation_0-rmse:27296.19119\n",
      "[280]\tvalidation_0-rmse:27202.37336\n",
      "[290]\tvalidation_0-rmse:27105.34460\n",
      "[299]\tvalidation_0-rmse:27076.47486\n",
      "Train RMSE: 21,802\n",
      "Dev RMSE: 27,071\n"
     ]
    }
   ],
   "source": [
    "model = XGBRegressor(\n",
    "    n_estimators=300,\n",
    "    learning_rate=0.02,\n",
    "    max_depth=3,\n",
    "    subsample=0.6,\n",
    "    colsample_bytree=0.6,\n",
    "    reg_alpha=10,\n",
    "    reg_lambda=10,\n",
    "    gamma=5,\n",
    "    random_state=36,\n",
    "    early_stopping_rounds=50\n",
    ")\n",
    "\n",
    "model.fit(\n",
    "    X_train, y_train,\n",
    "    eval_set=[(X_dev, y_dev)],\n",
    "    verbose=10\n",
    ")\n",
    "\n",
    "# Predict and evaluate\n",
    "y_train_pred = model.predict(X_train)\n",
    "y_dev_pred = model.predict(X_dev)\n",
    "train_rmse = root_mean_squared_error(y_train, y_train_pred)\n",
    "dev_rmse = root_mean_squared_error(y_dev, y_dev_pred)\n",
    "\n",
    "print(f\"Train RMSE: {train_rmse:,.0f}\")\n",
    "print(f\"Dev RMSE: {dev_rmse:,.0f}\")"
   ]
  },
  {
   "cell_type": "markdown",
   "metadata": {},
   "source": [
    "# Residual Analysis"
   ]
  },
  {
   "cell_type": "code",
   "execution_count": 8,
   "metadata": {},
   "outputs": [
    {
     "data": {
      "text/html": [
       "<div>\n",
       "<style scoped>\n",
       "    .dataframe tbody tr th:only-of-type {\n",
       "        vertical-align: middle;\n",
       "    }\n",
       "\n",
       "    .dataframe tbody tr th {\n",
       "        vertical-align: top;\n",
       "    }\n",
       "\n",
       "    .dataframe thead th {\n",
       "        text-align: right;\n",
       "    }\n",
       "</style>\n",
       "<table border=\"1\" class=\"dataframe\">\n",
       "  <thead>\n",
       "    <tr style=\"text-align: right;\">\n",
       "      <th></th>\n",
       "      <th>Actual</th>\n",
       "      <th>Predicted</th>\n",
       "      <th>Residual</th>\n",
       "    </tr>\n",
       "  </thead>\n",
       "  <tbody>\n",
       "    <tr>\n",
       "      <th>1057</th>\n",
       "      <td>248000</td>\n",
       "      <td>215383.687500</td>\n",
       "      <td>32616.312500</td>\n",
       "    </tr>\n",
       "    <tr>\n",
       "      <th>1391</th>\n",
       "      <td>124000</td>\n",
       "      <td>143020.484375</td>\n",
       "      <td>-19020.484375</td>\n",
       "    </tr>\n",
       "    <tr>\n",
       "      <th>291</th>\n",
       "      <td>135900</td>\n",
       "      <td>135954.062500</td>\n",
       "      <td>-54.062500</td>\n",
       "    </tr>\n",
       "    <tr>\n",
       "      <th>226</th>\n",
       "      <td>290000</td>\n",
       "      <td>282666.125000</td>\n",
       "      <td>7333.875000</td>\n",
       "    </tr>\n",
       "    <tr>\n",
       "      <th>622</th>\n",
       "      <td>135000</td>\n",
       "      <td>127640.195312</td>\n",
       "      <td>7359.804688</td>\n",
       "    </tr>\n",
       "    <tr>\n",
       "      <th>514</th>\n",
       "      <td>96500</td>\n",
       "      <td>105630.437500</td>\n",
       "      <td>-9130.437500</td>\n",
       "    </tr>\n",
       "    <tr>\n",
       "      <th>1383</th>\n",
       "      <td>112000</td>\n",
       "      <td>133872.546875</td>\n",
       "      <td>-21872.546875</td>\n",
       "    </tr>\n",
       "    <tr>\n",
       "      <th>524</th>\n",
       "      <td>315750</td>\n",
       "      <td>288117.812500</td>\n",
       "      <td>27632.187500</td>\n",
       "    </tr>\n",
       "    <tr>\n",
       "      <th>145</th>\n",
       "      <td>130000</td>\n",
       "      <td>174088.828125</td>\n",
       "      <td>-44088.828125</td>\n",
       "    </tr>\n",
       "    <tr>\n",
       "      <th>209</th>\n",
       "      <td>145000</td>\n",
       "      <td>144037.234375</td>\n",
       "      <td>962.765625</td>\n",
       "    </tr>\n",
       "  </tbody>\n",
       "</table>\n",
       "</div>"
      ],
      "text/plain": [
       "      Actual      Predicted      Residual\n",
       "1057  248000  215383.687500  32616.312500\n",
       "1391  124000  143020.484375 -19020.484375\n",
       "291   135900  135954.062500    -54.062500\n",
       "226   290000  282666.125000   7333.875000\n",
       "622   135000  127640.195312   7359.804688\n",
       "514    96500  105630.437500  -9130.437500\n",
       "1383  112000  133872.546875 -21872.546875\n",
       "524   315750  288117.812500  27632.187500\n",
       "145   130000  174088.828125 -44088.828125\n",
       "209   145000  144037.234375    962.765625"
      ]
     },
     "execution_count": 8,
     "metadata": {},
     "output_type": "execute_result"
    }
   ],
   "source": [
    "import matplotlib.pyplot as plt\n",
    "import seaborn as sns\n",
    "import pandas as pd\n",
    "\n",
    "# Compute residuals: actual - predicted\n",
    "residuals = y_dev - y_dev_pred\n",
    "df_res = pd.DataFrame({\n",
    "    'Actual': y_dev,\n",
    "    'Predicted': y_dev_pred,\n",
    "    'Residual': residuals\n",
    "})\n",
    "df_res.head(10)\n"
   ]
  },
  {
   "cell_type": "code",
   "execution_count": 9,
   "metadata": {},
   "outputs": [
    {
     "data": {
      "image/png": "[encoded data removed]",
      "text/plain": [
       "<Figure size 800x500 with 1 Axes>"
      ]
     },
     "metadata": {},
     "output_type": "display_data"
    }
   ],
   "source": [
    "# Distribution of Residuals\n",
    "plt.figure(figsize=(8,5))\n",
    "sns.histplot(residuals, kde=True, color='blue')\n",
    "plt.title('Distribution of Residuals')\n",
    "plt.xlabel('Residual (Actual - Predicted)')\n",
    "plt.show()\n"
   ]
  },
  {
   "cell_type": "code",
   "execution_count": 10,
   "metadata": {},
   "outputs": [
    {
     "data": {
      "image/png": "[encoded data removed]",
      "text/plain": [
       "<Figure size 800x500 with 1 Axes>"
      ]
     },
     "metadata": {},
     "output_type": "display_data"
    }
   ],
   "source": [
    "# Residuals vs. Actual\n",
    "plt.figure(figsize=(8,5))\n",
    "sns.scatterplot(x=y_dev, y=residuals, alpha=0.6)\n",
    "plt.axhline(y=0, color='r', linestyle='--')\n",
    "plt.title('Residuals vs. Actual Values')\n",
    "plt.xlabel('Actual SalePrice')\n",
    "plt.ylabel('Residual')\n",
    "plt.show()\n"
   ]
  },
  {
   "cell_type": "markdown",
   "metadata": {},
   "source": [
    "# Load and Predict on Test Dataset"
   ]
  },
  {
   "cell_type": "code",
   "execution_count": 14,
   "metadata": {},
   "outputs": [
    {
     "name": "stdout",
     "output_type": "stream",
     "text": [
      "Submission file saved as 'submission.csv'. Ready for Kaggle upload!\n"
     ]
    }
   ],
   "source": [
    "test = pd.read_csv('../data/new_test.csv')\n",
    "test_ids = test['Id']\n",
    "test = test[list(X_train.columns)]\n",
    "y_test_pred = model.predict(test)\n",
    "submission = pd.DataFrame({'Id': test_ids, 'SalePrice': y_test_pred})\n",
    "submission.to_csv('submission.csv', index=False)\n",
    "print(\"Submission file saved as 'submission.csv'. Ready for Kaggle upload!\")"
   ]
  }
 ],
 "metadata": {
  "kernelspec": {
   "display_name": "Python 3",
   "language": "python",
   "name": "python3"
  },
  "language_info": {
   "codemirror_mode": {
    "name": "ipython",
    "version": 3
   },
   "file_extension": ".py",
   "mimetype": "text/x-python",
   "name": "python",
   "nbconvert_exporter": "python",
   "pygments_lexer": "ipython3",
   "version": "3.10.5"
  }
 },
 "nbformat": 4,
 "nbformat_minor": 2
}
